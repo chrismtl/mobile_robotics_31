{
 "cells": [
  {
   "cell_type": "markdown",
   "metadata": {},
   "source": [
    "## 1. Introduction"
   ]
  },
  {
   "cell_type": "markdown",
   "metadata": {},
   "source": [
    "### a. Project's goal"
   ]
  },
  {
   "cell_type": "markdown",
   "metadata": {},
   "source": [
    "### b. Project's constraints"
   ]
  },
  {
   "cell_type": "markdown",
   "metadata": {},
   "source": [
    "## 2. Computer Vision"
   ]
  },
  {
   "cell_type": "markdown",
   "metadata": {},
   "source": [
    "### a. Scene initialization"
   ]
  },
  {
   "cell_type": "markdown",
   "metadata": {},
   "source": [
    "### b. Detection of obstacles, Thymio and goal point"
   ]
  },
  {
   "cell_type": "markdown",
   "metadata": {},
   "source": [
    "## 3. Global Navigation"
   ]
  },
  {
   "cell_type": "markdown",
   "metadata": {},
   "source": [
    "In this part we'll describe three important steps. The first one is the visibility matrix, it helps the robot see its surroundings by figuring out what’s in its line of sight. The second one is the path planning, where the robot figures out the best route to reach its goal while avoiding obstacles. Then we have the robot's actuation which is how the robot actually moves along the planned path.  "
   ]
  },
  {
   "cell_type": "markdown",
   "metadata": {},
   "source": [
    "### a. Visibility matrix"
   ]
  },
  {
   "cell_type": "markdown",
   "metadata": {},
   "source": [
    "\n",
    "We chose the visibility graph approach because it’s simple and finds the shortest path while avoiding obstacles. It’s a practical and efficient method that works well for this kind of navigation problems."
   ]
  },
  {
   "cell_type": "markdown",
   "metadata": {},
   "source": [
    "To implement the visibility matrix we used the Shapely library, we imported LineString and Polygon. LineString is used to represent the line segments between pairs of corners while Polygon is used to represents the abstacles as polygons. Those allow us to perform geometric operations such as testing whether a line intersects the obstacle, touches its boundary, or is fully contained within it."
   ]
  },
  {
   "cell_type": "code",
   "execution_count": null,
   "metadata": {},
   "outputs": [],
   "source": [
    "from shapely.geometry import LineString, Polygon\n",
    "\n",
    "def compute_visibility_matrix(start,end,obstacles):\n",
    "    \"\"\"\n",
    "    Compute a visibility matrix\n",
    "\n",
    "    input:\n",
    "        start point : start position of the robot\n",
    "        end point : end point; where the robot needs to stop\n",
    "        obstacles: List of obstacles, each as a list of extended \n",
    "                   corner coordinates [[(x1, y1), ...], ...]\n",
    "    \n",
    "    output:\n",
    "        Visibility_mat : (N x N) Visibility_mat(i,j) is equal to 1 if a path exist between the ith corner\n",
    "                            and the jth corner, if not  it's equal to 0.\n",
    "        corners: (1 X N) a list of corners\n",
    "    \"\"\"\n",
    "\n",
    "    # Convert start and end points to single-point obstacles\n",
    "    start_obstacle = [start]\n",
    "    end_obstacle = [end]\n",
    "\n",
    "    # Add start and end points to the obstacles list\n",
    "    obstacles = [start_obstacle, end_obstacle] + obstacles\n",
    "\n",
    "    # Flatten the list of obstacles to get all corners\n",
    "    corners = [corner for obstacle in obstacles for corner in obstacle]\n",
    "    corners = np.array(corners)\n",
    "    N = len(corners)\n",
    "    matrix = np.ones((N, N), dtype=int)\n",
    "\n",
    "    # Convert obstacles to polygons\n",
    "\n",
    "    obstacle_polygons = []\n",
    "    for obs in obstacles:\n",
    "        if len(obs) >= 3:\n",
    "            obstacle_polygons.append(Polygon(obs))\n",
    "    obstacle_polygons = np.array(obstacle_polygons)\n",
    "\n",
    "    # Map corners to their respective obstacle indices\n",
    "    corner_to_obstacle = {}\n",
    "    for obs_idx, obstacle in enumerate(obstacles):\n",
    "        for corner in obstacle:\n",
    "            corner_to_obstacle[tuple(corner)] = (obs_idx, obstacle)\n",
    "\n",
    "    for i in range(N):\n",
    "        for j in range(N):\n",
    "            if i == j:\n",
    "                continue\n",
    "\n",
    "            line = LineString([corners[i], corners[j]])\n",
    "            # Check if corners[i] and corners[j] belong to the same obstacle\n",
    "            same_obstacle = (\n",
    "                tuple(corners[i]) in corner_to_obstacle \n",
    "                and tuple(corners[j]) in corner_to_obstacle \n",
    "                and corner_to_obstacle[tuple(corners[i])][0] == corner_to_obstacle[tuple(corners[j])][0]\n",
    "            )\n",
    "\n",
    "            # If they are from the same obstacle\n",
    "            if same_obstacle:\n",
    "                # Retrieve the obstacle corners\n",
    "                obstacle_corners = corner_to_obstacle[tuple(corners[i])][1]\n",
    "                # Check if they are adjacent corners (only adjacent corners are visible)\n",
    "                if not are_adjacent_corners(corners[i], corners[j], obstacle_corners):\n",
    "                    matrix[i, j] = 0\n",
    "\n",
    "            else:\n",
    "                for poly in obstacle_polygons:\n",
    "                    if line.intersects(poly) and not line.touches(poly.boundary):\n",
    "                        matrix[i, j] = 0\n",
    "                        break\n",
    "\n",
    "\n",
    "    return matrix, corners\n",
    "    \n",
    "\n",
    "def are_adjacent_corners(corner1, corner2, obstacle_corners):\n",
    "    \"\"\"\n",
    "    Check if two corners are adjacent in the obstacle.\n",
    "\n",
    "    input:\n",
    "        corner1: First corner (x, y)\n",
    "        corner2: Second corner (x, y)\n",
    "        obstacle_corners: List of corners of the obstacle\n",
    "    \n",
    "    output:\n",
    "        True if the corners are adjacent, False otherwise\n",
    "    \"\"\"\n",
    "\n",
    "    n = len(obstacle_corners)\n",
    "    for i in range(n):\n",
    "        if (np.array_equal(obstacle_corners[i], corner1) and \n",
    "           (np.array_equal(obstacle_corners[(i + 1) % n], corner2) or \n",
    "           np.array_equal(obstacle_corners[(i - 1) % n], corner2))):\n",
    "            return True\n",
    "    return False"
   ]
  },
  {
   "cell_type": "markdown",
   "metadata": {},
   "source": [
    "Example:"
   ]
  },
  {
   "cell_type": "markdown",
   "metadata": {},
   "source": [
    "## PHOTO LIGNE POSSIBLES"
   ]
  },
  {
   "cell_type": "markdown",
   "metadata": {},
   "source": [
    "### b. Path planning"
   ]
  },
  {
   "cell_type": "markdown",
   "metadata": {},
   "source": [
    "We chose to implement the A* algorithm for the path planning because it's very efficient, it also reduces the unnecessary exploration by using the heuristic function.\n",
    "\n",
    "The algorithm starts by initializing a priority queue with the start node, where each node is scored based on the total cost (f_cost = g_cost + heuristic). At each step, the node with the lowest f_cost is processed. If the goal is reached, the path is reconstructed by tracing back through the came_from dictionary.\n",
    "\n",
    "For each neighbor of the current node, the algorithm calculates the cost (g_cost). If this cost is lower than a previously recorded cost, the neighbor is updated in the priority queue. The process continues until the goal is reached or no valid path is found, ensuring an optimal path with minimal computation."
   ]
  },
  {
   "cell_type": "code",
   "execution_count": null,
   "metadata": {},
   "outputs": [],
   "source": [
    "def heuristic(p1, p2):\n",
    "    # Implement the Manhattan distance heuristic\n",
    "    return abs(p1[0] - p2[0]) + abs(p1[1] - p2[1])\n",
    "\n",
    "\n",
    "\n",
    "def a_star_search(points,ex_path):\n",
    "    \"\"\"\n",
    "    A* \n",
    "\n",
    "    input:\n",
    "        start\n",
    "        end \n",
    "        points: N x 2 array (N = (# of corners) ), where:\n",
    "            - The remaining rows contain the coordinates of the extended corners.\n",
    "        ex_path: N X N, is equal to 1 if two corners are directly connected \n",
    "              by a line that does not cross any obstacle, and 0 otherwise.\n",
    "\n",
    "    output: \n",
    "        shortest_path: M X 2 (M = # of corners in the shortest path), A list \n",
    "            of corner indices representing the shortest path from start to goal.\n",
    "\n",
    "    Note: This implementation is heavily inspired by the A* algorithm provided in \n",
    "      the solution to the 5th exercise session of the Mobile Robotics course.\n",
    "      \n",
    "    \"\"\"\n",
    "\n",
    "    \n",
    "    # Initialize the open set as a priority queue and add the start node\n",
    "    open_set = []\n",
    "    start_index = 0\n",
    "    start = points[0,:]\n",
    "    goal_index = 1\n",
    "    goal = points[1,:]\n",
    "\n",
    "    N = points.shape[0]\n",
    "    distance_matrix = np.zeros((N, N))\n",
    "    for i in range(N):\n",
    "         for j in range(N):\n",
    "              #calculate the distance between two corners\n",
    "              distance_matrix[i,j] = norm(points[i,:]-points[j,])\n",
    "    \n",
    "\n",
    "    heappush(open_set, (heuristic(start, goal), 0, start_index))  # (f_cost, g_cost, position)\n",
    "\n",
    "    # Initialize the came_from dictionary\n",
    "    came_from = {}\n",
    "    # Initialize g_costs dictionary with default value of infinity and set g_costs[start] = 0\n",
    "    g_costs = {start_index: 0}\n",
    "    # Initialize the explored set\n",
    "    explored = set()\n",
    "    operation_count = 0\n",
    "\n",
    "    while open_set:\n",
    "        # Pop the node with the lowest f_cost from the open set\n",
    "        current_f_cost, current_g_cost, current_index = heappop(open_set)\n",
    "        # Add the current node to the explored set\n",
    "        explored.add(current_index)\n",
    "\n",
    "        # For directly reconstruct path\n",
    "        if current_index == goal_index:\n",
    "            break\n",
    "\n",
    "        # Get the neighbors of the current node \n",
    "        index_vector = ex_path[current_index,:]\n",
    "        neighbors_index = np.nonzero(index_vector)[0]\n",
    "\n",
    "        for index in neighbors_index:\n",
    "             if  index not in explored:\n",
    "                    # Calculate tentative_g_cost\n",
    "                    tentative_g_cost = current_g_cost + distance_matrix[current_index,index]\n",
    "\n",
    "                    # If this path to neighbor is better than any previous one\n",
    "                    if index not in g_costs or tentative_g_cost < g_costs[index]:\n",
    "                        # Update came_from, g_costs, and f_cost\n",
    "                        came_from[index] = current_index\n",
    "                        g_costs[index] = tentative_g_cost\n",
    "                        f_cost = tentative_g_cost + heuristic(points[index,:], goal)\n",
    "                        \n",
    "                        # Add neighbor to open set\n",
    "                        heappush(open_set, (f_cost, tentative_g_cost, index))\n",
    "                        operation_count += 1\n",
    "\n",
    "    # Reconstruct path\n",
    "    if current_index == goal_index:\n",
    "        path = []\n",
    "        while current_index in came_from:\n",
    "            path.append(points[current_index,:])\n",
    "            current_index = came_from[current_index]\n",
    "        path.append(start)\n",
    "        np_path = np.array(path)\n",
    "        return np_path[::-1]\n",
    "    else:\n",
    "        # If we reach here, no path was found\n",
    "        return None"
   ]
  },
  {
   "cell_type": "markdown",
   "metadata": {},
   "source": [
    "Example:"
   ]
  },
  {
   "cell_type": "markdown",
   "metadata": {},
   "source": [
    "## Photo qui montre le chemin optimal"
   ]
  },
  {
   "cell_type": "markdown",
   "metadata": {},
   "source": [
    "### c. Robot's actuation"
   ]
  },
  {
   "cell_type": "markdown",
   "metadata": {},
   "source": [
    "## 4 Local Navigation"
   ]
  },
  {
   "cell_type": "markdown",
   "metadata": {},
   "source": [
    "### a. Obstacle avoidance (Artificial Neural Network)"
   ]
  },
  {
   "cell_type": "markdown",
   "metadata": {},
   "source": [
    "### b. Completion of the obstacle avoidance"
   ]
  },
  {
   "cell_type": "markdown",
   "metadata": {},
   "source": [
    "## 5. Position Estimation: Kalman Filter"
   ]
  },
  {
   "cell_type": "markdown",
   "metadata": {},
   "source": [
    "### a. Empirical tests"
   ]
  },
  {
   "cell_type": "markdown",
   "metadata": {},
   "source": [
    "### b. Kalman filtering theory"
   ]
  },
  {
   "cell_type": "markdown",
   "metadata": {},
   "source": [
    "## 6. Video Demonstrations"
   ]
  },
  {
   "cell_type": "markdown",
   "metadata": {},
   "source": [
    "### a. Global example"
   ]
  },
  {
   "cell_type": "markdown",
   "metadata": {},
   "source": [
    "### b. Specific cases"
   ]
  },
  {
   "cell_type": "markdown",
   "metadata": {},
   "source": [
    "#### i. Obstacle avoidance"
   ]
  },
  {
   "cell_type": "markdown",
   "metadata": {},
   "source": [
    "#### ii. Kidnapping"
   ]
  },
  {
   "cell_type": "markdown",
   "metadata": {},
   "source": [
    "#### iii. Change in goal's position"
   ]
  },
  {
   "cell_type": "markdown",
   "metadata": {},
   "source": [
    "#### iv. Hidden Camera"
   ]
  },
  {
   "cell_type": "markdown",
   "metadata": {},
   "source": []
  }
 ],
 "metadata": {
  "kernelspec": {
   "display_name": "base",
   "language": "python",
   "name": "python3"
  },
  "language_info": {
   "name": "python",
   "version": "3.12.4"
  }
 },
 "nbformat": 4,
 "nbformat_minor": 2
}
