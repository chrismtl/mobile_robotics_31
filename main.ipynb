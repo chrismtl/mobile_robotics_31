{
 "cells": [
  {
   "cell_type": "markdown",
   "metadata": {},
   "source": [
    "## Connection to Thymio"
   ]
  },
  {
   "cell_type": "code",
   "execution_count": 2,
   "metadata": {},
   "outputs": [
    {
     "data": {
      "text/plain": [
       "Node 52ceb7f5-6164-4bf6-b28a-33899f775678"
      ]
     },
     "execution_count": 2,
     "metadata": {},
     "output_type": "execute_result"
    }
   ],
   "source": [
    "# Connect to Thymio with ClientAsync\n",
    "from tdmclient import ClientAsync, aw\n",
    "client = ClientAsync()\n",
    "node = await client.wait_for_node()\n",
    "\n",
    "# Lock Thymio\n",
    "aw(node.lock())"
   ]
  },
  {
   "cell_type": "markdown",
   "metadata": {},
   "source": [
    "## Importation of libraries"
   ]
  },
  {
   "cell_type": "code",
   "execution_count": 3,
   "metadata": {},
   "outputs": [],
   "source": [
    "from kalman_filtering.kalman_filter import *\n",
    "from thymio.control import *\n",
    "from computer_vision.vision import *\n",
    "from path_planning.path_plan import *\n",
    "from navigation.collision_avoidance import *"
   ]
  },
  {
   "cell_type": "markdown",
   "metadata": {},
   "source": [
    "## Main script"
   ]
  },
  {
   "cell_type": "code",
   "execution_count": null,
   "metadata": {},
   "outputs": [
    {
     "name": "stdout",
     "output_type": "stream",
     "text": [
      "=====[   SETUP      ]===============\n",
      "Place the Thymio and the destination, check the obstacles and the corners. Then, press S.\n",
      "ERROR: Could not detect the four aruco corners: only detected [[2]\n",
      " [1]\n",
      " [0]\n",
      " [5]\n",
      " [4]]\n",
      "=====[   START      ]===============\n",
      "=====[   MAP INFO   ]===============\n",
      "* FOUND CORNERS: True\n",
      "\n",
      "* FOUND ROBOT: True\n",
      "Position: [47, 263]\n",
      "Orientation: 0.17065477450758865\n",
      "\n",
      "* FOUND DESTINATION: True\n",
      "Position: [561, 287]\n",
      "\n",
      "* OBSTACLES: 3\n",
      "====================================\n",
      "\n",
      "mu_predict_old: [ 47. 263.   0.   0.]\n",
      "Path_reached\n"
     ]
    },
    {
     "ename": "error",
     "evalue": "OpenCV(4.10.0) :-1: error: (-5:Bad argument) in function 'line'\n> Overload resolution failed:\n>  - Can't parse 'pt1'. Sequence item with index 0 has a wrong type\n>  - Can't parse 'pt1'. Sequence item with index 0 has a wrong type\n",
     "output_type": "error",
     "traceback": [
      "\u001b[1;31m---------------------------------------------------------------------------\u001b[0m",
      "\u001b[1;31merror\u001b[0m                                     Traceback (most recent call last)",
      "Cell \u001b[1;32mIn[4], line 37\u001b[0m\n\u001b[0;32m     34\u001b[0m \u001b[38;5;28;01mwhile\u001b[39;00m active \u001b[38;5;241m==\u001b[39m \u001b[38;5;28;01mTrue\u001b[39;00m:\n\u001b[0;32m     35\u001b[0m     active \u001b[38;5;241m=\u001b[39m \u001b[38;5;28;01mawait\u001b[39;00m stop_thymio(node)\n\u001b[1;32m---> 37\u001b[0m     \u001b[38;5;28mmap\u001b[39m\u001b[38;5;241m.\u001b[39mupdate()\n\u001b[0;32m     39\u001b[0m     \u001b[38;5;66;03m# State variables measurement\u001b[39;00m\n\u001b[0;32m     40\u001b[0m     \u001b[38;5;28;01mawait\u001b[39;00m node\u001b[38;5;241m.\u001b[39mwait_for_variables()\n",
      "File \u001b[1;32mc:\\Users\\samyg\\OneDrive\\Bureau\\Vie sérieuse\\Etudes\\Polytechnique\\Échange A24\\MICRO-452\\mobile_robotics_31-main\\computer_vision\\vision.py:123\u001b[0m, in \u001b[0;36mMap.update\u001b[1;34m(self)\u001b[0m\n\u001b[0;32m    121\u001b[0m \u001b[38;5;28mself\u001b[39m\u001b[38;5;241m.\u001b[39msnap()\n\u001b[0;32m    122\u001b[0m \u001b[38;5;28mself\u001b[39m\u001b[38;5;241m.\u001b[39mfind_thymio_destination()\n\u001b[1;32m--> 123\u001b[0m \u001b[38;5;28;43mself\u001b[39;49m\u001b[38;5;241;43m.\u001b[39;49m\u001b[43mshow\u001b[49m\u001b[43m(\u001b[49m\u001b[43m)\u001b[49m\n",
      "File \u001b[1;32mc:\\Users\\samyg\\OneDrive\\Bureau\\Vie sérieuse\\Etudes\\Polytechnique\\Échange A24\\MICRO-452\\mobile_robotics_31-main\\computer_vision\\vision.py:205\u001b[0m, in \u001b[0;36mMap.show\u001b[1;34m(self)\u001b[0m\n\u001b[0;32m    203\u001b[0m     \u001b[38;5;66;03m#Draw shortest path\u001b[39;00m\n\u001b[0;32m    204\u001b[0m     \u001b[38;5;28;01mfor\u001b[39;00m i \u001b[38;5;129;01min\u001b[39;00m \u001b[38;5;28mrange\u001b[39m(\u001b[38;5;241m1\u001b[39m, \u001b[38;5;28mlen\u001b[39m(\u001b[38;5;28mself\u001b[39m\u001b[38;5;241m.\u001b[39mtarget_lines)):\n\u001b[1;32m--> 205\u001b[0m         \u001b[43mcv\u001b[49m\u001b[38;5;241;43m.\u001b[39;49m\u001b[43mline\u001b[49m\u001b[43m(\u001b[49m\u001b[43mframe\u001b[49m\u001b[43m,\u001b[49m\u001b[43m \u001b[49m\u001b[38;5;28;43mself\u001b[39;49m\u001b[38;5;241;43m.\u001b[39;49m\u001b[43mtarget_lines\u001b[49m\u001b[43m[\u001b[49m\u001b[43mi\u001b[49m\u001b[38;5;241;43m-\u001b[39;49m\u001b[38;5;241;43m1\u001b[39;49m\u001b[43m]\u001b[49m\u001b[43m,\u001b[49m\u001b[43m \u001b[49m\u001b[38;5;28;43mself\u001b[39;49m\u001b[38;5;241;43m.\u001b[39;49m\u001b[43mtarget_lines\u001b[49m\u001b[43m[\u001b[49m\u001b[43mi\u001b[49m\u001b[43m]\u001b[49m\u001b[43m,\u001b[49m\u001b[43m \u001b[49m\u001b[43mPATH_COLOR\u001b[49m\u001b[43m,\u001b[49m\u001b[43m \u001b[49m\u001b[38;5;241;43m3\u001b[39;49m\u001b[43m)\u001b[49m    \n\u001b[0;32m    207\u001b[0m cv\u001b[38;5;241m.\u001b[39mimshow(\u001b[38;5;124m'\u001b[39m\u001b[38;5;124mVision\u001b[39m\u001b[38;5;124m'\u001b[39m, frame)\n",
      "\u001b[1;31merror\u001b[0m: OpenCV(4.10.0) :-1: error: (-5:Bad argument) in function 'line'\n> Overload resolution failed:\n>  - Can't parse 'pt1'. Sequence item with index 0 has a wrong type\n>  - Can't parse 'pt1'. Sequence item with index 0 has a wrong type\n"
     ]
    }
   ],
   "source": [
    "map = Map()\n",
    "if P_VISION:\n",
    "    print(P_SETUP)\n",
    "    print(\"Place the Thymio and the destination, check the obstacles and the corners. Then, press S.\")\n",
    "\n",
    "while True:\n",
    "    map.update(True)\n",
    "    cv.waitKey(0)\n",
    "    if cv.waitKey(20) & 0xFF==ord('s'):\n",
    "        if map.get_found_corners():\n",
    "            map.update()\n",
    "            break\n",
    "        elif P_VISION:\n",
    "            print(\"USER: Must find corners before start\")\n",
    "\n",
    "if P_VISION: print(P_START)\n",
    "if P_VISION: map.info()\n",
    "await node.wait_for_variables()\n",
    "\n",
    "u_old = np.zeros(2).T\n",
    "mu_predict_old = np.array([map.robot[0], map.robot[1], u_old[0], u_old[1]]).T\n",
    "cov_predict_old = 100*np.eye(4)\n",
    "view_blocked = False\n",
    "active = True\n",
    "end = False\n",
    "start = True\n",
    "path = None\n",
    "segment_index = 0\n",
    "obstacle = 0\n",
    "error_est= [10,10]\n",
    "\n",
    "#print(\"mu_predict_old:\", mu_predict_old)\n",
    "\n",
    "while active == True:\n",
    "    active = await stop_thymio(node)\n",
    "\n",
    "    map.update()\n",
    "    \n",
    "    # State variables measurement\n",
    "    await node.wait_for_variables()\n",
    "    vel_meas = velocity_with_odometry(node, map.robot[2])\n",
    "\n",
    "    # Filtering\n",
    "    y = np.array([map.robot[0], map.robot[1], vel_meas[0], vel_meas[1]]).T\n",
    "    x_est, cov_est = kalman_filter(y, u_old, mu_predict_old, cov_predict_old, view_blocked)\n",
    "    map.pose_est = np.array([x_est[0], x_est[1], map.robot[2]])\n",
    "    error_est = np.array([cov_est[0,0], cov_est[1,1], 0])\n",
    "    print(\"Pose estimation of the Thymio:\", map.pose_est)\n",
    "   \n",
    "    # Global Navigation\n",
    "    if start == True:\n",
    "        ex_path, corners = compute_visibility_matrix(map.pose_est[0:2], map.destination[0:2], map.obstacles)\n",
    "        map.obstacles_lines = possible_lignes(ex_path, corners)\n",
    "        map.target_lines = a_star_search(corners, ex_path)\n",
    "        path = path_functions(map.target_lines)\n",
    "        start = False\n",
    "\n",
    "    # Local Navigation\n",
    "    u, obstacle, segment = await collision_avoidance(path, segment_index, map.robot, node) # Zacharie\n",
    "\n",
    "\n",
    "    if not obstacle:\n",
    "        u, segment_index, end = path_direction(map.pose_est, path, segment_index)\n",
    "\n",
    "    await node.set_variables(motors(int(u[0]), int(u[1])))\n",
    "\n",
    "    u_old = u.T\n",
    "    cov_predict_old = cov_est\n",
    "    mu_predict_old = x_est.T\n",
    "    # obstacle_old = obstacle\n",
    "\n",
    "    if cv.waitKey(20) & 0xFF==ord('p'):\n",
    "        map.vision_stop()\n",
    "        break"
   ]
  },
  {
   "cell_type": "markdown",
   "metadata": {},
   "source": [
    "## Motors control test"
   ]
  },
  {
   "cell_type": "code",
   "execution_count": null,
   "metadata": {},
   "outputs": [
    {
     "name": "stdout",
     "output_type": "stream",
     "text": [
      "Center button pressed. Stopping the algorithm.\n",
      "Velocity measured: []\n",
      "Velocity mean: nan\n",
      "Velocity variance: nan\n"
     ]
    },
    {
     "name": "stderr",
     "output_type": "stream",
     "text": [
      "c:\\Users\\samyg\\AppData\\Local\\Programs\\Python\\Python310\\lib\\site-packages\\numpy\\core\\fromnumeric.py:3504: RuntimeWarning: Mean of empty slice.\n",
      "  return _methods._mean(a, axis=axis, dtype=dtype,\n",
      "c:\\Users\\samyg\\AppData\\Local\\Programs\\Python\\Python310\\lib\\site-packages\\numpy\\core\\_methods.py:129: RuntimeWarning: invalid value encountered in scalar divide\n",
      "  ret = ret.dtype.type(ret / rcount)\n",
      "c:\\Users\\samyg\\AppData\\Local\\Programs\\Python\\Python310\\lib\\site-packages\\numpy\\core\\fromnumeric.py:3787: RuntimeWarning: Degrees of freedom <= 0 for slice\n",
      "  return _methods._var(a, axis=axis, dtype=dtype, out=out, ddof=ddof,\n",
      "c:\\Users\\samyg\\AppData\\Local\\Programs\\Python\\Python310\\lib\\site-packages\\numpy\\core\\_methods.py:163: RuntimeWarning: invalid value encountered in divide\n",
      "  arrmean = um.true_divide(arrmean, div, out=arrmean,\n",
      "c:\\Users\\samyg\\AppData\\Local\\Programs\\Python\\Python310\\lib\\site-packages\\numpy\\core\\_methods.py:198: RuntimeWarning: invalid value encountered in scalar divide\n",
      "  ret = ret.dtype.type(ret / rcount)\n"
     ]
    }
   ],
   "source": [
    "active = True\n",
    "vel_meas = []\n",
    "\n",
    "while active:\n",
    "    await node.wait_for_variables()\n",
    "    #vel_meas.append(velocity_with_odometry(node, 0)[0])\n",
    "    await node.set_variables(motors(-100, 100))\n",
    "    active = await stop_thymio(node)\n",
    "\n",
    "await node.set_variables(motors(0, 0)) \n",
    "\n",
    "vel_meas_mean = np.mean(vel_meas[-100:])\n",
    "vel_meas_var = np.var(vel_meas[-100:])\n",
    "print(\"Velocity measured:\", vel_meas)\n",
    "print(\"Velocity mean:\", vel_meas_mean)\n",
    "print(\"Velocity variance:\", vel_meas_var)"
   ]
  },
  {
   "cell_type": "code",
   "execution_count": null,
   "metadata": {},
   "outputs": [
    {
     "data": {
      "text/plain": [
       "{'_fwversion': [14, 0],\n",
       " '_id': [-27410],\n",
       " '_imot': [-17, -189],\n",
       " '_integrator': [689, -1116],\n",
       " '_productId': [8],\n",
       " '_vbat': [718, 717],\n",
       " 'acc': [1, -1, 24],\n",
       " 'acc._tap': [32],\n",
       " 'button.backward': [0],\n",
       " 'button.center': [1],\n",
       " 'button.forward': [0],\n",
       " 'button.left': [0],\n",
       " 'button.right': [0],\n",
       " 'buttons._mean': [10655, 9142, 13730, 13675, 15078],\n",
       " 'buttons._noise': [57, 46, 60, 53, 80],\n",
       " 'buttons._raw': [10641, 9140, 13538, 13663, 15020],\n",
       " 'event.args': [0,\n",
       "  0,\n",
       "  0,\n",
       "  0,\n",
       "  0,\n",
       "  0,\n",
       "  0,\n",
       "  0,\n",
       "  0,\n",
       "  0,\n",
       "  0,\n",
       "  0,\n",
       "  0,\n",
       "  0,\n",
       "  0,\n",
       "  0,\n",
       "  0,\n",
       "  0,\n",
       "  0,\n",
       "  0,\n",
       "  0,\n",
       "  0,\n",
       "  0,\n",
       "  0,\n",
       "  0,\n",
       "  0,\n",
       "  0,\n",
       "  0,\n",
       "  0,\n",
       "  0,\n",
       "  0,\n",
       "  0],\n",
       " 'event.source': [-27410],\n",
       " 'leds.bottom.left': [0, 0, 0],\n",
       " 'leds.bottom.right': [0, 0, 0],\n",
       " 'leds.circle': [0, 0, 0, 0, 0, 0, 0, 0],\n",
       " 'leds.top': [0, 0, 0],\n",
       " 'mic._mean': [261],\n",
       " 'mic.intensity': [29],\n",
       " 'mic.threshold': [0],\n",
       " 'motor.left.pwm': [329],\n",
       " 'motor.left.speed': [-72],\n",
       " 'motor.left.target': [-100],\n",
       " 'motor.right.pwm': [-419],\n",
       " 'motor.right.speed': [100],\n",
       " 'motor.right.target': [100],\n",
       " 'prox.comm.rx': [0],\n",
       " 'prox.comm.rx._intensities': [0, 0, 0, 0, 0, 0, 0],\n",
       " 'prox.comm.rx._payloads': [0, 0, 0, 0, 0, 0, 0],\n",
       " 'prox.comm.tx': [0],\n",
       " 'prox.ground.ambiant': [1, 2],\n",
       " 'prox.ground.delta': [990, 997],\n",
       " 'prox.ground.reflected': [925, 821],\n",
       " 'prox.horizontal': [0, 0, 0, 0, 0, 0, 0],\n",
       " 'rc5.address': [0],\n",
       " 'rc5.command': [0],\n",
       " 'sd.present': [0],\n",
       " 'temperature': [235],\n",
       " 'timer.period': [0, 50]}"
      ]
     },
     "execution_count": 5,
     "metadata": {},
     "output_type": "execute_result"
    }
   ],
   "source": [
    "node.var"
   ]
  }
 ],
 "metadata": {
  "kernelspec": {
   "display_name": "Python 3",
   "language": "python",
   "name": "python3"
  },
  "language_info": {
   "codemirror_mode": {
    "name": "ipython",
    "version": 3
   },
   "file_extension": ".py",
   "mimetype": "text/x-python",
   "name": "python",
   "nbconvert_exporter": "python",
   "pygments_lexer": "ipython3",
   "version": "3.10.5"
  }
 },
 "nbformat": 4,
 "nbformat_minor": 2
}
