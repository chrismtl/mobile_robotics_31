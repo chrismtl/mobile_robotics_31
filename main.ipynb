{
 "cells": [
  {
   "cell_type": "markdown",
   "metadata": {},
   "source": [
    "## Connection to Thymio"
   ]
  },
  {
   "cell_type": "code",
   "execution_count": 1,
   "metadata": {},
   "outputs": [
    {
     "data": {
      "text/plain": [
       "Node 52ceb7f5-6164-4bf6-b28a-33899f775678"
      ]
     },
     "execution_count": 1,
     "metadata": {},
     "output_type": "execute_result"
    }
   ],
   "source": [
    "# Connect to Thymio with ClientAsync\n",
    "from tdmclient import ClientAsync, aw\n",
    "client = ClientAsync()\n",
    "node = await client.wait_for_node()\n",
    "\n",
    "# Lock Thymio\n",
    "aw(node.lock())"
   ]
  },
  {
   "cell_type": "markdown",
   "metadata": {},
   "source": [
    "## Importation of libraries"
   ]
  },
  {
   "cell_type": "code",
   "execution_count": 2,
   "metadata": {},
   "outputs": [],
   "source": [
    "from kalman_filtering.kalman_filter import *\n",
    "from thymio.control import *\n",
    "from computer_vision.vision import *\n",
    "from path_planning.path_plan import *"
   ]
  },
  {
   "cell_type": "markdown",
   "metadata": {},
   "source": [
    "## Main script"
   ]
  },
  {
   "cell_type": "code",
   "execution_count": 3,
   "metadata": {},
   "outputs": [
    {
     "name": "stdout",
     "output_type": "stream",
     "text": [
      "WARNING: Robot not found\n",
      "WARNING: Robot not found\n",
      "WARNING: Robot not found\n",
      "WARNING: Robot not found\n",
      "arrive fin segment\n",
      "304.0\n",
      "seg index: 1\n",
      "nombre de seg 2\n",
      "WARNING: Target not found\n",
      "WARNING: Target not found\n",
      "WARNING: Target not found\n",
      "WARNING: Target not found\n",
      "WARNING: Target not found\n",
      "WARNING: Target not found\n",
      "arrive fin segment\n",
      "399.0\n",
      "seg index: 2\n",
      "nombre de seg 2\n",
      "final destination\n",
      "WARNING: Target not found\n"
     ]
    },
    {
     "ename": "IndexError",
     "evalue": "index 3 is out of bounds for axis 0 with size 3",
     "output_type": "error",
     "traceback": [
      "\u001b[1;31m---------------------------------------------------------------------------\u001b[0m",
      "\u001b[1;31mIndexError\u001b[0m                                Traceback (most recent call last)",
      "Cell \u001b[1;32mIn[3], line 67\u001b[0m\n\u001b[0;32m     64\u001b[0m     start \u001b[38;5;241m=\u001b[39m \u001b[38;5;28;01mFalse\u001b[39;00m\n\u001b[0;32m     66\u001b[0m \u001b[38;5;28;01mif\u001b[39;00m \u001b[38;5;129;01mnot\u001b[39;00m obstacle:\n\u001b[1;32m---> 67\u001b[0m     u, segment_index, end \u001b[38;5;241m=\u001b[39m \u001b[43mpath_direction\u001b[49m\u001b[43m(\u001b[49m\u001b[38;5;28;43mmap\u001b[39;49m\u001b[38;5;241;43m.\u001b[39;49m\u001b[43mrobot\u001b[49m\u001b[43m,\u001b[49m\u001b[43m \u001b[49m\u001b[43mpath\u001b[49m\u001b[43m,\u001b[49m\u001b[43m \u001b[49m\u001b[43msegment_index\u001b[49m\u001b[43m)\u001b[49m\n\u001b[0;32m     68\u001b[0m     \u001b[38;5;66;03m#u = np.round(u/100)\u001b[39;00m\n\u001b[0;32m     70\u001b[0m \u001b[38;5;28;01mawait\u001b[39;00m node\u001b[38;5;241m.\u001b[39mset_variables(motors(\u001b[38;5;28mint\u001b[39m(u[\u001b[38;5;241m0\u001b[39m]), \u001b[38;5;28mint\u001b[39m(u[\u001b[38;5;241m1\u001b[39m])))\n",
      "File \u001b[1;32mc:\\Users\\BossTala\\Documents\\Christian\\EPFL\\MA1\\Basics of mobile robotics\\Projet\\Source\\mobile_robotics_31\\path_planning\\path_plan.py:186\u001b[0m, in \u001b[0;36mpath_direction\u001b[1;34m(coordinates, nodes_slopes, segment_index)\u001b[0m\n\u001b[0;32m    183\u001b[0m end \u001b[38;5;241m=\u001b[39m \u001b[38;5;241m0\u001b[39m\n\u001b[0;32m    185\u001b[0m \u001b[38;5;66;03m#check if we're close to the end of the segment\u001b[39;00m\n\u001b[1;32m--> 186\u001b[0m distance_segm \u001b[38;5;241m=\u001b[39m ((\u001b[43mnodes_slopes\u001b[49m\u001b[43m[\u001b[49m\u001b[43msegment_index\u001b[49m\u001b[38;5;241;43m+\u001b[39;49m\u001b[38;5;241;43m1\u001b[39;49m\u001b[43m,\u001b[49m\u001b[38;5;241;43m1\u001b[39;49m\u001b[43m]\u001b[49m\u001b[38;5;241m-\u001b[39my_mean)\u001b[38;5;241m*\u001b[39m\u001b[38;5;241m*\u001b[39m\u001b[38;5;241m2\u001b[39m \u001b[38;5;241m+\u001b[39m (nodes_slopes[segment_index\u001b[38;5;241m+\u001b[39m\u001b[38;5;241m1\u001b[39m,\u001b[38;5;241m0\u001b[39m]\u001b[38;5;241m-\u001b[39mx_mean)\u001b[38;5;241m*\u001b[39m\u001b[38;5;241m*\u001b[39m\u001b[38;5;241m2\u001b[39m)\u001b[38;5;241m*\u001b[39m\u001b[38;5;241m*\u001b[39m\u001b[38;5;241m0.5\u001b[39m\n\u001b[0;32m    188\u001b[0m \u001b[38;5;28;01mif\u001b[39;00m distance_segm \u001b[38;5;241m<\u001b[39m tolerance_norm:\n\u001b[0;32m    189\u001b[0m     \u001b[38;5;66;03m#means we're at the end of the segment\u001b[39;00m\n\u001b[0;32m    190\u001b[0m     \u001b[38;5;28mprint\u001b[39m(\u001b[38;5;124m\"\u001b[39m\u001b[38;5;124marrive fin segment\u001b[39m\u001b[38;5;124m\"\u001b[39m)\n",
      "\u001b[1;31mIndexError\u001b[0m: index 3 is out of bounds for axis 0 with size 3"
     ]
    }
   ],
   "source": [
    "u_old = 0\n",
    "mu_predict_old = 0\n",
    "cov_predict_old = 0\n",
    "view_blocked = False\n",
    "active = True\n",
    "end = False\n",
    "start = True\n",
    "path = None\n",
    "segment_index = 0\n",
    "obstacle = 0\n",
    "\n",
    "map = Map()\n",
    "\n",
    "## map.obstacles = [[corner_1, ..., corner_p],\n",
    "##                  [          ...          ],\n",
    "#                   [corner_1, ..., corner_p]]\n",
    "\n",
    "## map.target_lines = [[x1, y1]\n",
    "#                      [x2, y2],\n",
    "##                     [ ...  ],\n",
    "#                      [x2, y2]]\n",
    "\n",
    "## map.obstacles_lines = [[(x1, y1), (x2, y2)],\n",
    "##                        [        ...       ],\n",
    "#                         [(x1, y1), (x2, y2)]]\n",
    "\n",
    "while True:\n",
    "    map.show()\n",
    "    if cv.waitKey(20) & 0xFF==ord('d'):\n",
    "        break\n",
    "\n",
    "input(\"Place the Thymio and the destination. Then, press Enter.\")\n",
    "\n",
    "while active == True:\n",
    "    #print(map.target_lines)\n",
    "    #print(map.obstacles_lines)\n",
    "    #active = await stop_thymio(node)\n",
    "\n",
    "    map.update()\n",
    "    \n",
    "    # State variables measurement\n",
    "    #await node.wait_for_variables()\n",
    "    #vel_meas = velocity_with_odometry(node, map.robot[2])\n",
    "\n",
    "    # Filtering\n",
    "    #y = np.array([map.robot[0]], [map.robot[1]], [vel_meas[0]], [vel_meas[1]])\n",
    "    #x_est, cov_est = kalman_filter(y, u_old, mu_predict_old, cov_predict_old, view_blocked)\n",
    "    #pose_est = x_est[0:2]\n",
    "    #pose_est.append(map.robot[2])\n",
    "    #error_est = cov_est[0:2]\n",
    "    #error_est.append(0)\n",
    "\n",
    "    # Global Navigation\n",
    "    #create path\n",
    "    # Local Navigation\n",
    "    #u, obstacle, segment_index = collision_avoidance(path, pose_est, error_est, old_obstacle, segment_index) # Zacharie\n",
    "\n",
    "    # Global Navigation\n",
    "    if start == True:\n",
    "        ex_path, corners = compute_visibility_matrix(map.robot[0:2], map.destination[0:2], map.obstacles)\n",
    "        map.obstacles_lines = possible_lignes(ex_path, corners)\n",
    "        map.target_lines = a_star_search(corners, ex_path)\n",
    "        path = path_functions(map.target_lines)\n",
    "        start = False\n",
    "\n",
    "    if not obstacle:\n",
    "        u, segment_index, end = path_direction(map.robot, path, segment_index)\n",
    "        #u = np.round(u/100)\n",
    "\n",
    "    await node.set_variables(motors(int(u[0]), int(u[1])))\n",
    "\n",
    "    #u_old = u\n",
    "    #cov_predict_old = cov_est\n",
    "    #mu_predict_old = x_est\n",
    "    #obstacle_old = obstacle\n",
    "\n",
    "    if cv.waitKey(20) & 0xFF==ord('p'):\n",
    "        map.vision_stop()\n",
    "        break\n",
    "\n",
    "map.info()\n",
    "cv.destroyAllWindows()\n"
   ]
  },
  {
   "cell_type": "markdown",
   "metadata": {},
   "source": [
    "## Motors control test"
   ]
  },
  {
   "cell_type": "code",
   "execution_count": null,
   "metadata": {},
   "outputs": [],
   "source": [
    "active = True\n",
    "vel_meas = []\n",
    "\n",
    "while active:\n",
    "    await node.wait_for_variables()\n",
    "    #vel_meas.append(velocity_with_odometry(node, 0)[0])\n",
    "    await node.set_variables(motors(-100, 100))\n",
    "    active = await stop_thymio(node)\n",
    "\n",
    "await node.set_variables(motors(0, 0)) \n",
    "\n",
    "vel_meas_mean = np.mean(vel_meas[-100:])\n",
    "vel_meas_var = np.var(vel_meas[-100:])\n",
    "print(\"Velocity measured:\", vel_meas)\n",
    "print(\"Velocity mean:\", vel_meas_mean)\n",
    "print(\"Velocity variance:\", vel_meas_var)"
   ]
  },
  {
   "cell_type": "code",
   "execution_count": null,
   "metadata": {},
   "outputs": [
    {
     "data": {
      "text/plain": [
       "{'_fwversion': [14, 0],\n",
       " '_id': [-1010],\n",
       " '_productId': [8],\n",
       " 'button.backward': [1],\n",
       " 'button.center': [1],\n",
       " 'button.forward': [0],\n",
       " 'button.left': [1],\n",
       " 'button.right': [1],\n",
       " 'buttons._raw': [11231, 9659, 13845, 14539, 15964],\n",
       " 'event.args': [0,\n",
       "  0,\n",
       "  0,\n",
       "  0,\n",
       "  0,\n",
       "  0,\n",
       "  0,\n",
       "  0,\n",
       "  0,\n",
       "  0,\n",
       "  0,\n",
       "  0,\n",
       "  0,\n",
       "  0,\n",
       "  0,\n",
       "  0,\n",
       "  0,\n",
       "  0,\n",
       "  0,\n",
       "  0,\n",
       "  0,\n",
       "  0,\n",
       "  0,\n",
       "  0,\n",
       "  0,\n",
       "  0,\n",
       "  0,\n",
       "  0,\n",
       "  0,\n",
       "  0,\n",
       "  0,\n",
       "  0],\n",
       " 'event.source': [-1010],\n",
       " '_imot': [-290, -335],\n",
       " '_vbat': [674, 681],\n",
       " 'buttons._mean': [11713, 10030, 14926, 15068, 16548],\n",
       " 'buttons._noise': [300, 263, 427, 415, 431],\n",
       " 'motor.left.speed': [350],\n",
       " 'motor.left.target': [384],\n",
       " 'motor.right.speed': [390],\n",
       " 'motor.right.target': [644],\n",
       " 'prox.comm.rx': [0],\n",
       " 'prox.comm.rx._intensities': [0, 0, 0, 0, 0, 0, 0],\n",
       " 'prox.comm.rx._payloads': [0, 0, 0, 0, 0, 0, 0],\n",
       " 'prox.comm.tx': [0],\n",
       " 'prox.ground.ambiant': [0, 0],\n",
       " 'prox.ground.delta': [0, 0],\n",
       " 'prox.ground.reflected': [0, 0],\n",
       " 'prox.horizontal': [0, 0, 0, 0, 0, 0, 0],\n",
       " '_integrator': [-2136, -1242],\n",
       " 'acc': [-10, 11, 5],\n",
       " 'acc._tap': [90],\n",
       " 'leds.bottom.left': [0, 0, 0],\n",
       " 'leds.bottom.right': [0, 0, 0],\n",
       " 'leds.circle': [0, 0, 0, 0, 0, 0, 0, 0],\n",
       " 'leds.top': [0, 0, 0],\n",
       " 'mic._mean': [255],\n",
       " 'mic.intensity': [255],\n",
       " 'mic.threshold': [0],\n",
       " 'motor.left.pwm': [-801],\n",
       " 'motor.right.pwm': [-801],\n",
       " 'rc5.address': [0],\n",
       " 'rc5.command': [0],\n",
       " 'sd.present': [0],\n",
       " 'temperature': [247],\n",
       " 'timer.period': [0, 0]}"
      ]
     },
     "execution_count": 9,
     "metadata": {},
     "output_type": "execute_result"
    }
   ],
   "source": [
    "node.var"
   ]
  }
 ],
 "metadata": {
  "kernelspec": {
   "display_name": "Python 3",
   "language": "python",
   "name": "python3"
  },
  "language_info": {
   "codemirror_mode": {
    "name": "ipython",
    "version": 3
   },
   "file_extension": ".py",
   "mimetype": "text/x-python",
   "name": "python",
   "nbconvert_exporter": "python",
   "pygments_lexer": "ipython3",
   "version": "3.12.7"
  }
 },
 "nbformat": 4,
 "nbformat_minor": 2
}
