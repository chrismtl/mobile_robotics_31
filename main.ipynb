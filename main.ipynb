{
 "cells": [
  {
   "cell_type": "markdown",
   "metadata": {},
   "source": [
    "## Connection to Thymio"
   ]
  },
  {
   "cell_type": "code",
   "execution_count": 1,
   "metadata": {},
   "outputs": [
    {
     "data": {
      "text/plain": [
       "Node fe36b4a4-2452-4ab5-8d68-b28bb42f53d5"
      ]
     },
     "execution_count": 1,
     "metadata": {},
     "output_type": "execute_result"
    }
   ],
   "source": [
    "# Connect to Thymio with ClientAsync\n",
    "from tdmclient import ClientAsync, aw\n",
    "client = ClientAsync()\n",
    "node = await client.wait_for_node()\n",
    "\n",
    "# Lock Thymio\n",
    "aw(node.lock())"
   ]
  },
  {
   "cell_type": "markdown",
   "metadata": {},
   "source": [
    "## Importation of libraries"
   ]
  },
  {
   "cell_type": "code",
   "execution_count": 2,
   "metadata": {},
   "outputs": [],
   "source": [
    "from kalman_filtering.kalman_filter import *\n",
    "from thymio.control import *\n",
    "from computer_vision.vision import *\n",
    "from path_planning.path_plan import *\n",
    "from Navigation.collision_avoidance import *\n",
    "\n",
    "await node.set_variables(motors(0, 0))"
   ]
  },
  {
   "cell_type": "markdown",
   "metadata": {},
   "source": [
    "## Main script"
   ]
  },
  {
   "cell_type": "code",
   "execution_count": 3,
   "metadata": {},
   "outputs": [
    {
     "name": "stdout",
     "output_type": "stream",
     "text": [
      "=====[   SETUP      ]===============\n",
      "Place the Thymio and the destination, check the avoidance_modes and the corners. Then, press S.\n",
      "ERROR: Could not detect the four aruco corners: only detected [[2]\n",
      " [1]\n",
      " [0]\n",
      " [5]\n",
      " [4]]\n"
     ]
    },
    {
     "ename": "error",
     "evalue": "OpenCV(4.10.0) D:\\a\\opencv-python\\opencv-python\\opencv\\modules\\objdetect\\src\\aruco\\aruco_detector.cpp:872: error: (-215:Assertion failed) !_image.empty() in function 'cv::aruco::ArucoDetector::detectMarkers'\n",
     "output_type": "error",
     "traceback": [
      "\u001b[1;31m---------------------------------------------------------------------------\u001b[0m",
      "\u001b[1;31merror\u001b[0m                                     Traceback (most recent call last)",
      "Cell \u001b[1;32mIn[3], line 20\u001b[0m\n\u001b[0;32m     17\u001b[0m     \u001b[38;5;28mprint\u001b[39m(\u001b[38;5;124m\"\u001b[39m\u001b[38;5;124mPlace the Thymio and the destination, check the avoidance_modes and the corners. Then, press S.\u001b[39m\u001b[38;5;124m\"\u001b[39m)\n\u001b[0;32m     19\u001b[0m \u001b[38;5;28;01mwhile\u001b[39;00m \u001b[38;5;28;01mTrue\u001b[39;00m:\n\u001b[1;32m---> 20\u001b[0m     \u001b[38;5;28mmap\u001b[39m\u001b[38;5;241m.\u001b[39mpre_update()\n\u001b[0;32m     21\u001b[0m     cv\u001b[38;5;241m.\u001b[39mwaitKey(\u001b[38;5;241m0\u001b[39m)\n\u001b[0;32m     22\u001b[0m     \u001b[38;5;28;01mif\u001b[39;00m cv\u001b[38;5;241m.\u001b[39mwaitKey(\u001b[38;5;241m1\u001b[39m) \u001b[38;5;241m&\u001b[39m \u001b[38;5;241m0xFF\u001b[39m\u001b[38;5;241m==\u001b[39m\u001b[38;5;28mord\u001b[39m(\u001b[38;5;124m'\u001b[39m\u001b[38;5;124ms\u001b[39m\u001b[38;5;124m'\u001b[39m):\n",
      "File \u001b[1;32mc:\\Users\\zacbo\\OneDrive\\Bureau\\mob_project\\mobile_robotics_31\\computer_vision\\vision.py:114\u001b[0m, in \u001b[0;36mMap.pre_update\u001b[1;34m(self)\u001b[0m\n\u001b[0;32m    112\u001b[0m \u001b[38;5;28;01mdef\u001b[39;00m \u001b[38;5;21mpre_update\u001b[39m(\u001b[38;5;28mself\u001b[39m):\n\u001b[0;32m    113\u001b[0m     \u001b[38;5;28mself\u001b[39m\u001b[38;5;241m.\u001b[39msnap()\n\u001b[1;32m--> 114\u001b[0m     \u001b[38;5;28mself\u001b[39m\u001b[38;5;241m.\u001b[39mfind_corners()\n\u001b[0;32m    115\u001b[0m     \u001b[38;5;28mself\u001b[39m\u001b[38;5;241m.\u001b[39mfind_thymio_destination()\n\u001b[0;32m    116\u001b[0m     \u001b[38;5;28;01mif\u001b[39;00m \u001b[38;5;28mself\u001b[39m\u001b[38;5;241m.\u001b[39mfound_corners:\n",
      "File \u001b[1;32mc:\\Users\\zacbo\\OneDrive\\Bureau\\mob_project\\mobile_robotics_31\\computer_vision\\vision.py:78\u001b[0m, in \u001b[0;36mMap.find_corners\u001b[1;34m(self)\u001b[0m\n\u001b[0;32m     76\u001b[0m \u001b[38;5;28;01mdef\u001b[39;00m \u001b[38;5;21mfind_corners\u001b[39m(\u001b[38;5;28mself\u001b[39m):\n\u001b[0;32m     77\u001b[0m     \u001b[38;5;66;03m# Get aruco in the corners\u001b[39;00m\n\u001b[1;32m---> 78\u001b[0m     \u001b[38;5;28mself\u001b[39m\u001b[38;5;241m.\u001b[39mmap_corners \u001b[38;5;241m=\u001b[39m get_corner_arucos(\u001b[38;5;28mself\u001b[39m\u001b[38;5;241m.\u001b[39mraw_frame)\n\u001b[0;32m     80\u001b[0m     \u001b[38;5;66;03m# Check if it found the 4 corners\u001b[39;00m\n\u001b[0;32m     81\u001b[0m     \u001b[38;5;28;01mif\u001b[39;00m \u001b[38;5;28mlen\u001b[39m(\u001b[38;5;28mself\u001b[39m\u001b[38;5;241m.\u001b[39mmap_corners)\u001b[38;5;241m==\u001b[39m\u001b[38;5;241m4\u001b[39m:\n",
      "File \u001b[1;32mc:\\Users\\zacbo\\OneDrive\\Bureau\\mob_project\\mobile_robotics_31\\computer_vision\\aruco.py:78\u001b[0m, in \u001b[0;36mget_corner_arucos\u001b[1;34m(frame)\u001b[0m\n\u001b[0;32m     75\u001b[0m aruco_parameters \u001b[38;5;241m=\u001b[39m  cv\u001b[38;5;241m.\u001b[39maruco\u001b[38;5;241m.\u001b[39mDetectorParameters()\n\u001b[0;32m     77\u001b[0m \u001b[38;5;66;03m# Detect ArUco markers in the video frame\u001b[39;00m\n\u001b[1;32m---> 78\u001b[0m (corners, ids, rejected) \u001b[38;5;241m=\u001b[39m cv\u001b[38;5;241m.\u001b[39maruco\u001b[38;5;241m.\u001b[39mdetectMarkers(\n\u001b[0;32m     79\u001b[0m     frame, aruco_dictionary, parameters\u001b[38;5;241m=\u001b[39maruco_parameters)\n\u001b[0;32m     81\u001b[0m \u001b[38;5;66;03m# Check that all four ArUco markers were detected\u001b[39;00m\n\u001b[0;32m     82\u001b[0m \u001b[38;5;28;01mif\u001b[39;00m ids \u001b[38;5;129;01mis\u001b[39;00m \u001b[38;5;129;01mnot\u001b[39;00m \u001b[38;5;28;01mNone\u001b[39;00m:\n",
      "\u001b[1;31merror\u001b[0m: OpenCV(4.10.0) D:\\a\\opencv-python\\opencv-python\\opencv\\modules\\objdetect\\src\\aruco\\aruco_detector.cpp:872: error: (-215:Assertion failed) !_image.empty() in function 'cv::aruco::ArucoDetector::detectMarkers'\n"
     ]
    }
   ],
   "source": [
    "\n",
    "u_old = 0\n",
    "mu_predict_old = 0\n",
    "cov_predict_old = 0\n",
    "view_blocked = False\n",
    "active = True\n",
    "end = False\n",
    "start = True\n",
    "path = None\n",
    "segment_index = 0\n",
    "avoidance_mode = 0\n",
    "obj_right = False\n",
    "obstacle_pos = np.array([0, 0])\n",
    "\n",
    "map = Map()\n",
    "if P_VISION:\n",
    "    print(P_SETUP)\n",
    "    print(\"Place the Thymio and the destination, check the avoidance_modes and the corners. Then, press S.\")\n",
    "\n",
    "while True:\n",
    "    map.pre_update()\n",
    "    cv.waitKey(0)\n",
    "    if cv.waitKey(1) & 0xFF==ord('s'):\n",
    "        if map.get_found_corners():\n",
    "            map.update()\n",
    "            break\n",
    "        elif P_VISION:\n",
    "            print(\"USER: Must find corners before start\")\n",
    "\n",
    "if P_VISION: print(P_START)\n",
    "if P_VISION: map.info()\n",
    "await node.wait_for_variables()\n",
    "\n",
    "while active == True:\n",
    "    active = await stop_thymio(node)\n",
    "\n",
    "    map.update()\n",
    "    \n",
    "    # State variables measurement\n",
    "    # await node.wait_for_variables()\n",
    "    # vel_meas = velocity_with_odometry(node, map.robot[2])\n",
    "\n",
    "    # Filtering\n",
    "    # y = np.array([map.robot[0]], [map.robot[1]], [vel_meas[0]], [vel_meas[1]])\n",
    "    # x_est, cov_est = kalman_filter(y, u_old, mu_predict_old, cov_predict_old, view_blocked)\n",
    "    # pose_est = x_est[0:2]\n",
    "    # pose_est.append(map.robot[2])\n",
    "    # error_est = cov_est[0:2]\n",
    "    # error_est.append(0)\n",
    "\n",
    "    # Global Navigation\n",
    "    #create path\n",
    "   \n",
    "    # Global Navigation\n",
    "    if start == True:\n",
    "        ex_path, corners = compute_visibility_matrix(map.robot[0:2], map.destination[0:2], map.obstacles)\n",
    "        map.avoidance_modes_lines = possible_lignes(ex_path, corners)\n",
    "        map.target_lines = a_star_search(corners, ex_path)\n",
    "        path = path_functions(map.target_lines)\n",
    "        start = False\n",
    "\n",
    "    #local nav\n",
    "    u, avoidance_mode, segment_index, obj_right, obstacle_pos = await collision_avoidance(path, node, map.robot, avoidance_mode, segment_index, obj_right, obstacle_pos) # Zacharie\n",
    "    print(\"avoidance_mode\", avoidance_mode)\n",
    "\n",
    "    if not avoidance_mode:\n",
    "        u, segment_index, end = path_direction(map.robot, path, segment_index)\n",
    "\n",
    "    await node.set_variables(motors(int(u[0]), int(u[1])))\n",
    "\n",
    "    # u_old = u\n",
    "    # cov_predict_old = cov_est\n",
    "    # mu_predict_old = x_est\n",
    "    #avoidance_mode_old = avoidance_mode\n",
    "\n",
    "    if cv.waitKey(20) & 0xFF==ord('p'):\n",
    "        map.vision_stop()\n",
    "        break"
   ]
  },
  {
   "cell_type": "code",
   "execution_count": null,
   "metadata": {},
   "outputs": [],
   "source": []
  },
  {
   "cell_type": "markdown",
   "metadata": {},
   "source": [
    "## Motors control test"
   ]
  },
  {
   "cell_type": "code",
   "execution_count": null,
   "metadata": {},
   "outputs": [],
   "source": [
    "await node.set_variables(motors(0, 0))\n"
   ]
  },
  {
   "cell_type": "code",
   "execution_count": null,
   "metadata": {},
   "outputs": [
    {
     "name": "stdout",
     "output_type": "stream",
     "text": [
      "Center button pressed. Stopping the algorithm.\n",
      "Velocity measured: []\n",
      "Velocity mean: nan\n",
      "Velocity variance: nan\n"
     ]
    },
    {
     "name": "stderr",
     "output_type": "stream",
     "text": [
      "c:\\Users\\zacbo\\anaconda3\\Lib\\site-packages\\numpy\\core\\fromnumeric.py:3504: RuntimeWarning: Mean of empty slice.\n",
      "  return _methods._mean(a, axis=axis, dtype=dtype,\n",
      "c:\\Users\\zacbo\\anaconda3\\Lib\\site-packages\\numpy\\core\\_methods.py:129: RuntimeWarning: invalid value encountered in scalar divide\n",
      "  ret = ret.dtype.type(ret / rcount)\n",
      "c:\\Users\\zacbo\\anaconda3\\Lib\\site-packages\\numpy\\core\\fromnumeric.py:3787: RuntimeWarning: Degrees of freedom <= 0 for slice\n",
      "  return _methods._var(a, axis=axis, dtype=dtype, out=out, ddof=ddof,\n",
      "c:\\Users\\zacbo\\anaconda3\\Lib\\site-packages\\numpy\\core\\_methods.py:163: RuntimeWarning: invalid value encountered in divide\n",
      "  arrmean = um.true_divide(arrmean, div, out=arrmean,\n",
      "c:\\Users\\zacbo\\anaconda3\\Lib\\site-packages\\numpy\\core\\_methods.py:198: RuntimeWarning: invalid value encountered in scalar divide\n",
      "  ret = ret.dtype.type(ret / rcount)\n"
     ]
    }
   ],
   "source": [
    "active = True\n",
    "vel_meas = []\n",
    "\n",
    "while active:\n",
    "    await node.wait_for_variables()\n",
    "    #vel_meas.append(velocity_with_odometry(node, 0)[0])\n",
    "    await node.set_variables(motors(-100, 100))\n",
    "    active = await stop_thymio(node)\n",
    "\n",
    "await node.set_variables(motors(0, 0)) \n",
    "\n",
    "vel_meas_mean = np.mean(vel_meas[-100:])\n",
    "vel_meas_var = np.var(vel_meas[-100:])\n",
    "print(\"Velocity measured:\", vel_meas)\n",
    "print(\"Velocity mean:\", vel_meas_mean)\n",
    "print(\"Velocity variance:\", vel_meas_var)"
   ]
  },
  {
   "cell_type": "code",
   "execution_count": null,
   "metadata": {},
   "outputs": [
    {
     "data": {
      "text/plain": [
       "{'_fwversion': [14, 0],\n",
       " '_id': [-27410],\n",
       " '_imot': [-109, -246],\n",
       " '_integrator': [-991, -802],\n",
       " '_productId': [8],\n",
       " '_vbat': [706, 706],\n",
       " 'acc': [1, 0, 22],\n",
       " 'acc._tap': [32],\n",
       " 'button.backward': [0],\n",
       " 'button.center': [1],\n",
       " 'button.forward': [0],\n",
       " 'button.left': [0],\n",
       " 'button.right': [0],\n",
       " 'buttons._mean': [10668, 9145, 13728, 13661, 15080],\n",
       " 'buttons._noise': [69, 56, 78, 105, 84],\n",
       " 'buttons._raw': [10659, 9146, 12871, 13653, 15079],\n",
       " 'event.args': [0,\n",
       "  0,\n",
       "  0,\n",
       "  0,\n",
       "  0,\n",
       "  0,\n",
       "  0,\n",
       "  0,\n",
       "  0,\n",
       "  0,\n",
       "  0,\n",
       "  0,\n",
       "  0,\n",
       "  0,\n",
       "  0,\n",
       "  0,\n",
       "  0,\n",
       "  0,\n",
       "  0,\n",
       "  0,\n",
       "  0,\n",
       "  0,\n",
       "  0,\n",
       "  0,\n",
       "  0,\n",
       "  0,\n",
       "  0,\n",
       "  0,\n",
       "  0,\n",
       "  0,\n",
       "  0,\n",
       "  0],\n",
       " 'event.source': [-27410],\n",
       " 'leds.bottom.left': [0, 0, 0],\n",
       " 'leds.bottom.right': [0, 0, 0],\n",
       " 'leds.circle': [0, 0, 0, 0, 0, 0, 0, 0],\n",
       " 'leds.top': [0, 0, 0],\n",
       " 'mic._mean': [261],\n",
       " 'mic.intensity': [65],\n",
       " 'mic.threshold': [0],\n",
       " 'motor.left.pwm': [31],\n",
       " 'motor.left.speed': [-68],\n",
       " 'motor.left.target': [0],\n",
       " 'motor.right.pwm': [272],\n",
       " 'motor.right.speed': [53],\n",
       " 'motor.right.target': [0],\n",
       " 'prox.comm.rx': [0],\n",
       " 'prox.comm.rx._intensities': [0, 0, 0, 0, 0, 0, 0],\n",
       " 'prox.comm.rx._payloads': [0, 0, 0, 0, 0, 0, 0],\n",
       " 'prox.comm.tx': [0],\n",
       " 'prox.ground.ambiant': [1, 2],\n",
       " 'prox.ground.delta': [995, 919],\n",
       " 'prox.ground.reflected': [934, 812],\n",
       " 'prox.horizontal': [0, 0, 0, 0, 0, 0, 0],\n",
       " 'rc5.address': [0],\n",
       " 'rc5.command': [0],\n",
       " 'sd.present': [0],\n",
       " 'temperature': [255],\n",
       " 'timer.period': [0, 50]}"
      ]
     },
     "execution_count": 6,
     "metadata": {},
     "output_type": "execute_result"
    }
   ],
   "source": [
    "node.var"
   ]
  }
 ],
 "metadata": {
  "kernelspec": {
   "display_name": "Python 3",
   "language": "python",
   "name": "python3"
  },
  "language_info": {
   "codemirror_mode": {
    "name": "ipython",
    "version": 3
   },
   "file_extension": ".py",
   "mimetype": "text/x-python",
   "name": "python",
   "nbconvert_exporter": "python",
   "pygments_lexer": "ipython3",
   "version": "3.12.7"
  }
 },
 "nbformat": 4,
 "nbformat_minor": 2
}
