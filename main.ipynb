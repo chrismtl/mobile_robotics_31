{
 "cells": [
  {
   "cell_type": "markdown",
   "metadata": {},
   "source": [
    "## Connection to Thymio"
   ]
  },
  {
   "cell_type": "code",
   "execution_count": 1,
   "metadata": {},
   "outputs": [
    {
     "data": {
      "text/plain": [
       "Node 52ceb7f5-6164-4bf6-b28a-33899f775678"
      ]
     },
     "execution_count": 1,
     "metadata": {},
     "output_type": "execute_result"
    }
   ],
   "source": [
    "# Connect to Thymio with ClientAsync\n",
    "from tdmclient import ClientAsync, aw\n",
    "client = ClientAsync()\n",
    "node = await client.wait_for_node()\n",
    "\n",
    "# Lock Thymio\n",
    "aw(node.lock())"
   ]
  },
  {
   "cell_type": "markdown",
   "metadata": {},
   "source": [
    "## Importation of libraries"
   ]
  },
  {
   "cell_type": "code",
   "execution_count": 2,
   "metadata": {},
   "outputs": [
    {
     "name": "stdout",
     "output_type": "stream",
     "text": [
      "[[3 3]\n",
      " [4 4]\n",
      " [5 5]]\n"
     ]
    }
   ],
   "source": [
    "import keyboard\n",
    "import time\n",
    "from kalman_filtering.kalman_filter import *\n",
    "from thymio.control import *\n",
    "from computer_vision.vision import *\n",
    "from path_planning.path_plan import *\n",
    "from navigation.collision_avoidance import *"
   ]
  },
  {
   "cell_type": "markdown",
   "metadata": {},
   "source": [
    "## Main script"
   ]
  },
  {
   "cell_type": "code",
   "execution_count": null,
   "metadata": {},
   "outputs": [
    {
     "name": "stdout",
     "output_type": "stream",
     "text": [
      "USER: Must find corners before start\n",
      "USER: Must find corners before start\n",
      "USER: Must find corners before start\n",
      "USER: Must find corners before start\n"
     ]
    }
   ],
   "source": [
    "map = Map()\n",
    "if P_VISION:\n",
    "    print(P_SETUP)\n",
    "    print(\"Place the Thymio and the destination, check that everything is properly set. Then, press S.\")\n",
    "\n",
    "# Call a first single update step to create our vision windows\n",
    "map.update(True) \n",
    "\n",
    "while True:\n",
    "    \n",
    "    if keyboard.is_pressed('space'):\n",
    "        map.update(True)\n",
    "    \n",
    "    if keyboard.is_pressed('s'):\n",
    "        if map.found_corners and map.found_destination:\n",
    "            map.update()\n",
    "            break\n",
    "        else:\n",
    "            print(\"USER: Must find corners before start\")\n",
    "    \n",
    "    cv.waitKey(10)\n",
    "\n",
    "if P_VISION: print(P_START)\n",
    "if P_VISION: map.info()\n",
    "await node.wait_for_variables()\n",
    "\n",
    "vel_old = np.zeros(2)\n",
    "mu_est_old = np.array([map.robot[0], map.robot[1], map.robot[2], 0, 0])\n",
    "cov_est_old = 100*np.eye(5)\n",
    "view_blocked = False\n",
    "active = True\n",
    "end = False\n",
    "start = True\n",
    "path = None\n",
    "segment_index = 0\n",
    "avoidance_mode = 0\n",
    "obj_right = False\n",
    "obstacle_pos = np.array([0, 0])\n",
    "destination = map.destination[0:2]\n",
    "pos_robot = map.robot[0:2]\n",
    "dt = 0.12\n",
    "\n",
    "while active == True:\n",
    "    start_time = time.time()\n",
    "    print(\"----------------------\")\n",
    "    active = await stop_thymio(node)\n",
    "\n",
    "    map.update()\n",
    "    \n",
    "    # State variables measurement\n",
    "    await node.wait_for_variables()\n",
    " \n",
    "    # Filtering\n",
    "    x_est, cov_est = kalman_filter(vel_old, mu_est_old, cov_predict_old, map.found_robot, dt)\n",
    "    map.pose_est = np.array([int(x_est[0]), int(x_est[1]), x_est[2]], dtype=object)\n",
    "    cov_predict_old = cov_est\n",
    "    mu_est_old = x_est\n",
    "\n",
    "    # Check if final destination moved\n",
    "    change_dest = ((map.destination[1]-destination[1])**2 + (map.destination[0]-destination[0])**2)*0.5\n",
    "    if change_dest > 20:\n",
    "        start = True\n",
    "        print(\"Nouveau chemin destination changé\")\n",
    "\n",
    "    #  Check if the robot has been relocated\n",
    "    change_robot = ((map.pose_est[1]-pos_robot[1])**2 + (map.pose_est[0]-pos_robot[0])**2)*0.5\n",
    "    if change_robot > 200:\n",
    "        start = True\n",
    "        print(\"Nouveau chemin robot changé\")\n",
    "   \n",
    "    # Global Navigation\n",
    "    if start == True:\n",
    "        destination = map.destination[0:2]\n",
    "        ex_path, corners = compute_visibility_matrix(map.pose_est[0:2], destination, map.obstacles)\n",
    "        map.obstacles_lines = possible_lignes(ex_path, corners)\n",
    "        map.target_lines = a_star_search(corners, ex_path)\n",
    "        path = path_functions(map.target_lines)\n",
    "        segment_index = 0\n",
    "        start = False\n",
    "\n",
    "    #local nav\n",
    "    u, avoidance_mode, segment_index, obj_right, obstacle_pos = await collision_avoidance(path, node, map.pose_est, avoidance_mode, segment_index, obj_right, obstacle_pos, map.destination[0:2]) # Zacharie\n",
    "    #print(\"avoidance_mode\", avoidance_mode)\n",
    "\n",
    "    if not avoidance_mode:\n",
    "        u, segment_index, end = path_direction(map.pose_est, path, segment_index)\n",
    "    \n",
    "    #update robot position            \n",
    "    pos_robot = map.pose_est[0:2]\n",
    "\n",
    "    await node.set_variables(motors(int(u[0]), int(u[1])))\n",
    "\n",
    "    vel_old = u\n",
    "    \n",
    "    end_time = time.time()\n",
    "    # Update execution time\n",
    "    dt = end_time - start_time\n",
    "    #print(\"Execution time:\", dt)  \n",
    "    cv.waitKey(10)\n",
    "    if keyboard.is_pressed('q'):\n",
    "        map.__del__()\n",
    "        break"
   ]
  },
  {
   "cell_type": "markdown",
   "metadata": {},
   "source": [
    "## Thymio velocity measurements"
   ]
  },
  {
   "cell_type": "code",
   "execution_count": null,
   "metadata": {},
   "outputs": [],
   "source": [
    "from thymio.control import *\n",
    "import matplotlib.pyplot as plt\n",
    "\n",
    "active = True\n",
    "v_l = []\n",
    "v_r = []\n",
    "\n",
    "while active:\n",
    "    await node.wait_for_variables()\n",
    "    await node.set_variables(motors(100, 100))\n",
    "    v = get_thymio_velocity(node)\n",
    "    v_l.append(v[0])\n",
    "    v_r.append(v[1])\n",
    "    active = await stop_thymio(node)\n",
    "\n",
    "await node.set_variables(motors(0, 0)) \n",
    "\n",
    "v_l_mean = np.mean(v_l[10:])\n",
    "v_l_var = np.var(v_l[10:])\n",
    "\n",
    "v_r_mean = np.mean(v_r[10:])\n",
    "v_r_var = np.var(v_r[10:])\n",
    "\n",
    "print(\"Left vel measured:\", v_l[10:])\n",
    "print(\"Left vel mean:\", v_l_mean)\n",
    "print(\"Left vel variance:\", v_l_var)\n",
    "\n",
    "nb_iteration = np.linspace(0, len(v_l[10:]), len(v_l[10:]))\n",
    "plt.plot(nb_iteration, v_l[10:])\n",
    "plt.title(\"Left motor velocity covariance in measurement\")\n",
    "plt.show()\n",
    "\n",
    "print(\"Right vel measured:\", v_r[10:])\n",
    "print(\"Right vel mean:\", v_r_mean)\n",
    "print(\"Right vel variance:\", v_r_var)\n",
    "\n",
    "nb_iteration = np.linspace(0, len(v_r[10:]), len(v_r[10:]))\n",
    "plt.plot(nb_iteration, v_r[10:])\n",
    "plt.title(\"Right motor velocity covariance in measurement\")\n",
    "plt.show()"
   ]
  },
  {
   "cell_type": "markdown",
   "metadata": {},
   "source": [
    "## Thymio position measurements"
   ]
  },
  {
   "cell_type": "code",
   "execution_count": null,
   "metadata": {},
   "outputs": [
    {
     "name": "stdout",
     "output_type": "stream",
     "text": []
    }
   ],
   "source": [
    "import matplotlib.pyplot as plt\n",
    "\n",
    "map = Map()\n",
    "\n",
    "robot_positions_x = []\n",
    "robot_positions_y = []\n",
    "robot_positions_theta = []\n",
    "map.update(True)\n",
    "while True:\n",
    "    start = time.time()\n",
    "    map.update()\n",
    "    robot_position_x = map.robot[0]\n",
    "    robot_positions_x.append(robot_position_x)\n",
    "\n",
    "    robot_position_y = map.robot[1]\n",
    "    robot_positions_y.append(robot_position_y)\n",
    "    \n",
    "    robot_position_theta = map.robot[2] \n",
    "    robot_positions_theta.append(robot_position_theta)\n",
    "    end = time.time()\n",
    "    dt = end - start\n",
    "    print(dt)\n",
    "\n",
    "    if cv.waitKey(20) & 0xFF==ord(\"d\"):\n",
    "        map.__del__()\n",
    "        break\n",
    "\n",
    "robot_positions_x_mean = np.mean(robot_positions_x[10:])\n",
    "robot_positions_x_var = np.var(robot_positions_x[10:])\n",
    "\n",
    "robot_positions_y_mean = np.mean(robot_positions_y[10:])\n",
    "robot_positions_y_var = np.var(robot_positions_y[10:])\n",
    "\n",
    "robot_positions_theta_mean = np.mean(robot_positions_theta[10:])\n",
    "robot_positions_theta_var = np.var(robot_positions_theta[10:])\n",
    "\n",
    "print(\"Position x measured:\", robot_positions_x[10:])\n",
    "print(\"Position x mean:\", robot_positions_x_mean)\n",
    "print(\"Position x variance:\", robot_positions_x_var)\n",
    "\n",
    "nb_iteration = np.linspace(0, len(robot_positions_x[10:]), len(robot_positions_x[10:]))\n",
    "plt.plot(nb_iteration, robot_positions_x[10:])\n",
    "plt.title(\"Position x covariance in measurement\")\n",
    "plt.show()\n",
    "\n",
    "print(\"Position y measured:\", robot_positions_y[10:])\n",
    "print(\"Position y mean:\", robot_positions_y_mean)\n",
    "print(\"Position y variance:\", robot_positions_y_var)\n",
    "\n",
    "plt.plot(nb_iteration, robot_positions_y[10:])\n",
    "plt.title(\"Position y covariance in measurement\")\n",
    "plt.show()\n",
    "\n",
    "print(\"Position theta measured:\", robot_positions_theta[10:])\n",
    "print(\"Position theta mean:\", robot_positions_theta_mean)\n",
    "print(\"Position theta variance:\", robot_positions_theta_var)\n",
    "\n",
    "plt.plot(nb_iteration, robot_positions_theta[10:])\n",
    "plt.title(\"Position theta covariance in measurement\")\n",
    "plt.show()"
   ]
  },
  {
   "cell_type": "code",
   "execution_count": null,
   "metadata": {},
   "outputs": [
    {
     "data": {
      "text/plain": [
       "{'_fwversion': [14, 0],\n",
       " '_id': [-27410],\n",
       " '_imot': [-162, -184],\n",
       " '_integrator': [-1079, -1177],\n",
       " '_productId': [8],\n",
       " '_vbat': [690, 688],\n",
       " 'acc': [3, 0, 21],\n",
       " 'acc._tap': [32],\n",
       " 'button.backward': [0],\n",
       " 'button.center': [1],\n",
       " 'button.forward': [0],\n",
       " 'button.left': [0],\n",
       " 'button.right': [0],\n",
       " 'buttons._mean': [10674, 9159, 13755, 13702, 15106],\n",
       " 'buttons._noise': [58, 40, 62, 60, 57],\n",
       " 'buttons._raw': [10658, 9157, 12878, 13710, 15109],\n",
       " 'event.args': [0,\n",
       "  0,\n",
       "  0,\n",
       "  0,\n",
       "  0,\n",
       "  0,\n",
       "  0,\n",
       "  0,\n",
       "  0,\n",
       "  0,\n",
       "  0,\n",
       "  0,\n",
       "  0,\n",
       "  0,\n",
       "  0,\n",
       "  0,\n",
       "  0,\n",
       "  0,\n",
       "  0,\n",
       "  0,\n",
       "  0,\n",
       "  0,\n",
       "  0,\n",
       "  0,\n",
       "  0,\n",
       "  0,\n",
       "  0,\n",
       "  0,\n",
       "  0,\n",
       "  0,\n",
       "  0,\n",
       "  0],\n",
       " 'event.source': [-27410],\n",
       " 'leds.bottom.left': [0, 0, 0],\n",
       " 'leds.bottom.right': [0, 0, 0],\n",
       " 'leds.circle': [0, 0, 0, 0, 0, 0, 0, 0],\n",
       " 'leds.top': [0, 0, 0],\n",
       " 'mic._mean': [283],\n",
       " 'mic.intensity': [65],\n",
       " 'mic.threshold': [0],\n",
       " 'motor.left.pwm': [-421],\n",
       " 'motor.left.speed': [89],\n",
       " 'motor.left.target': [100],\n",
       " 'motor.right.pwm': [-438],\n",
       " 'motor.right.speed': [82],\n",
       " 'motor.right.target': [100],\n",
       " 'prox.comm.rx': [0],\n",
       " 'prox.comm.rx._intensities': [0, 0, 0, 0, 0, 0, 0],\n",
       " 'prox.comm.rx._payloads': [0, 0, 0, 0, 0, 0, 0],\n",
       " 'prox.comm.tx': [0],\n",
       " 'prox.ground.ambiant': [0, 0],\n",
       " 'prox.ground.delta': [477, 414],\n",
       " 'prox.ground.reflected': [443, 352],\n",
       " 'prox.horizontal': [0, 0, 0, 0, 0, 0, 0],\n",
       " 'rc5.address': [0],\n",
       " 'rc5.command': [0],\n",
       " 'sd.present': [0],\n",
       " 'temperature': [233],\n",
       " 'timer.period': [0, 50]}"
      ]
     },
     "execution_count": 5,
     "metadata": {},
     "output_type": "execute_result"
    }
   ],
   "source": [
    "node.var"
   ]
  }
 ],
 "metadata": {
  "kernelspec": {
   "display_name": "Python 3",
   "language": "python",
   "name": "python3"
  },
  "language_info": {
   "codemirror_mode": {
    "name": "ipython",
    "version": 3
   },
   "file_extension": ".py",
   "mimetype": "text/x-python",
   "name": "python",
   "nbconvert_exporter": "python",
   "pygments_lexer": "ipython3",
   "version": "3.12.8"
  }
 },
 "nbformat": 4,
 "nbformat_minor": 2
}
