{
 "cells": [
  {
   "cell_type": "markdown",
   "metadata": {},
   "source": [
    "## Connection to Thymio"
   ]
  },
  {
   "cell_type": "code",
   "execution_count": 1,
   "metadata": {},
   "outputs": [
    {
     "data": {
      "text/plain": [
       "Node fe36b4a4-2452-4ab5-8d68-b28bb42f53d5"
      ]
     },
     "execution_count": 1,
     "metadata": {},
     "output_type": "execute_result"
    }
   ],
   "source": [
    "# Connect to Thymio with ClientAsync\n",
    "from tdmclient import ClientAsync, aw\n",
    "client = ClientAsync()\n",
    "node = await client.wait_for_node()\n",
    "\n",
    "# Lock Thymio\n",
    "aw(node.lock())"
   ]
  },
  {
   "cell_type": "markdown",
   "metadata": {},
   "source": [
    "## Importation of libraries"
   ]
  },
  {
   "cell_type": "code",
   "execution_count": 2,
   "metadata": {},
   "outputs": [
    {
     "name": "stderr",
     "output_type": "stream",
     "text": [
      "c:\\Users\\BossTala\\Documents\\Christian\\EPFL\\MA1\\Basics of mobile robotics\\Projet\\Source\\mobile_robotics_31\\computer_vision\\constants.py:2: SyntaxWarning: invalid escape sequence '\\c'\n",
      "  CAMERA_CALIBRATION_FILE = 'computer_vision\\calibration_chessboard.yaml'\n"
     ]
    }
   ],
   "source": [
    "from kalman_filtering.kalman_filter import *\n",
    "from thymio.control import *\n",
    "from computer_vision.vision import *\n",
    "from path_planning.path_plan import *"
   ]
  },
  {
   "cell_type": "markdown",
   "metadata": {},
   "source": [
    "## Main script"
   ]
  },
  {
   "cell_type": "code",
   "execution_count": null,
   "metadata": {},
   "outputs": [
    {
     "name": "stdout",
     "output_type": "stream",
     "text": [
      "=====[   SETUP      ]===============\n",
      "Place the Thymio and the destination, check the obstacles and the corners. Then, press S.\n",
      "ERROR: Could not detect Destination\n",
      "ERROR: Could not detect Destination\n",
      "ERROR: Could not detect Destination\n",
      "ERROR: Could not detect Destination\n",
      "ERROR: Could not detect Destination\n",
      "ERROR: Could not detect Destination\n",
      "ERROR: Could not detect Destination\n",
      "ERROR: Could not detect Destination\n",
      "ERROR: Could not detect Destination\n",
      "ERROR: Could not detect Destination\n",
      "ERROR: Could not detect Destination\n",
      "ERROR: Could not detect Destination\n",
      "ERROR: Could not detect Destination\n",
      "ERROR: Could not detect Destination\n",
      "ERROR: Could not detect Destination\n",
      "ERROR: Could not detect Destination\n",
      "ERROR: Could not detect Destination\n",
      "ERROR: Could not detect Destination\n",
      "ERROR: Could not detect Destination\n"
     ]
    }
   ],
   "source": [
    "\n",
    "u_old = 0\n",
    "mu_predict_old = 0\n",
    "cov_predict_old = 0\n",
    "view_blocked = False\n",
    "active = True\n",
    "end = False\n",
    "start = True\n",
    "path = None\n",
    "segment_index = 0\n",
    "obstacle = 0\n",
    "\n",
    "map = Map()\n",
    "if P_VISION:\n",
    "    print(P_SETUP)\n",
    "    print(\"Place the Thymio and the destination, check the obstacles and the corners. Then, press S.\")\n",
    "\n",
    "while True:\n",
    "    map.pre_update()\n",
    "    cv.waitKey(0)\n",
    "    if cv.waitKey(20) & 0xFF==ord('s'):\n",
    "        if map.get_found_corners():\n",
    "            map.update()\n",
    "            break\n",
    "        elif P_VISION:\n",
    "            print(\"USER: Must find corners before start\")\n",
    "\n",
    "if P_VISION: print(P_START)\n",
    "if P_VISION: map.info()\n",
    "await node.wait_for_variables()\n",
    "\n",
    "while active == True:\n",
    "    active = await stop_thymio(node)\n",
    "\n",
    "    map.update()\n",
    "    \n",
    "    # State variables measurement\n",
    "    # await node.wait_for_variables()\n",
    "    # vel_meas = velocity_with_odometry(node, map.robot[2])\n",
    "\n",
    "    # Filtering\n",
    "    # y = np.array([map.robot[0]], [map.robot[1]], [vel_meas[0]], [vel_meas[1]])\n",
    "    # x_est, cov_est = kalman_filter(y, u_old, mu_predict_old, cov_predict_old, view_blocked)\n",
    "    # pose_est = x_est[0:2]\n",
    "    # pose_est.append(map.robot[2])\n",
    "    # error_est = cov_est[0:2]\n",
    "    # error_est.append(0)\n",
    "\n",
    "    # Global Navigation\n",
    "    #create path\n",
    "    # Local Navigation\n",
    "    #u, obstacle, segment_index = collision_avoidance(path, pose_est, error_est, obstacle_old, segment_index) # Zacharie\n",
    "\n",
    "    # Global Navigation\n",
    "    if start == True:\n",
    "        ex_path, corners = compute_visibility_matrix(map.robot[0:2], map.destination[0:2], map.obstacles)\n",
    "        map.obstacles_lines = possible_lignes(ex_path, corners)\n",
    "        map.target_lines = a_star_search(corners, ex_path)\n",
    "        path = path_functions(map.target_lines)\n",
    "        start = False\n",
    "\n",
    "    if not obstacle:\n",
    "        u, segment_index, end = path_direction(map.robot, path, segment_index)\n",
    "\n",
    "    await node.set_variables(motors(int(u[0]), int(u[1])))\n",
    "\n",
    "    # u_old = u\n",
    "    # cov_predict_old = cov_est\n",
    "    # mu_predict_old = x_est\n",
    "    #obstacle_old = obstacle\n",
    "\n",
    "    if cv.waitKey(20) & 0xFF==ord('p'):\n",
    "        map.vision_stop()\n",
    "        break"
   ]
  },
  {
   "cell_type": "markdown",
   "metadata": {},
   "source": [
    "## Motors control test"
   ]
  },
  {
   "cell_type": "code",
   "execution_count": null,
   "metadata": {},
   "outputs": [
    {
     "name": "stdout",
     "output_type": "stream",
     "text": [
      "Center button pressed. Stopping the algorithm.\n",
      "Velocity measured: []\n",
      "Velocity mean: nan\n",
      "Velocity variance: nan\n"
     ]
    },
    {
     "name": "stderr",
     "output_type": "stream",
     "text": [
      "C:\\Users\\BossTala\\AppData\\Local\\Packages\\PythonSoftwareFoundation.Python.3.12_qbz5n2kfra8p0\\LocalCache\\local-packages\\Python312\\site-packages\\numpy\\_core\\fromnumeric.py:3904: RuntimeWarning: Mean of empty slice.\n",
      "  return _methods._mean(a, axis=axis, dtype=dtype,\n",
      "C:\\Users\\BossTala\\AppData\\Local\\Packages\\PythonSoftwareFoundation.Python.3.12_qbz5n2kfra8p0\\LocalCache\\local-packages\\Python312\\site-packages\\numpy\\_core\\_methods.py:147: RuntimeWarning: invalid value encountered in scalar divide\n",
      "  ret = ret.dtype.type(ret / rcount)\n",
      "C:\\Users\\BossTala\\AppData\\Local\\Packages\\PythonSoftwareFoundation.Python.3.12_qbz5n2kfra8p0\\LocalCache\\local-packages\\Python312\\site-packages\\numpy\\_core\\fromnumeric.py:4318: RuntimeWarning: Degrees of freedom <= 0 for slice\n",
      "  return _methods._var(a, axis=axis, dtype=dtype, out=out, ddof=ddof,\n",
      "C:\\Users\\BossTala\\AppData\\Local\\Packages\\PythonSoftwareFoundation.Python.3.12_qbz5n2kfra8p0\\LocalCache\\local-packages\\Python312\\site-packages\\numpy\\_core\\_methods.py:184: RuntimeWarning: invalid value encountered in divide\n",
      "  arrmean = um.true_divide(arrmean, div, out=arrmean,\n",
      "C:\\Users\\BossTala\\AppData\\Local\\Packages\\PythonSoftwareFoundation.Python.3.12_qbz5n2kfra8p0\\LocalCache\\local-packages\\Python312\\site-packages\\numpy\\_core\\_methods.py:219: RuntimeWarning: invalid value encountered in scalar divide\n",
      "  ret = ret.dtype.type(ret / rcount)\n"
     ]
    }
   ],
   "source": [
    "active = True\n",
    "vel_meas = []\n",
    "\n",
    "while active:\n",
    "    await node.wait_for_variables()\n",
    "    #vel_meas.append(velocity_with_odometry(node, 0)[0])\n",
    "    await node.set_variables(motors(-100, 100))\n",
    "    active = await stop_thymio(node)\n",
    "\n",
    "await node.set_variables(motors(0, 0)) \n",
    "\n",
    "vel_meas_mean = np.mean(vel_meas[-100:])\n",
    "vel_meas_var = np.var(vel_meas[-100:])\n",
    "print(\"Velocity measured:\", vel_meas)\n",
    "print(\"Velocity mean:\", vel_meas_mean)\n",
    "print(\"Velocity variance:\", vel_meas_var)"
   ]
  },
  {
   "cell_type": "code",
   "execution_count": null,
   "metadata": {},
   "outputs": [
    {
     "data": {
      "text/plain": [
       "{'_fwversion': [14, 0],\n",
       " '_id': [-27410],\n",
       " '_productId': [8],\n",
       " 'button.backward': [0],\n",
       " 'button.center': [1],\n",
       " 'button.forward': [0],\n",
       " 'button.left': [0],\n",
       " 'button.right': [0],\n",
       " 'buttons._raw': [10641, 9126, 12702, 13640, 15050],\n",
       " 'event.args': [0,\n",
       "  0,\n",
       "  0,\n",
       "  0,\n",
       "  0,\n",
       "  0,\n",
       "  0,\n",
       "  0,\n",
       "  0,\n",
       "  0,\n",
       "  0,\n",
       "  0,\n",
       "  0,\n",
       "  0,\n",
       "  0,\n",
       "  0,\n",
       "  0,\n",
       "  0,\n",
       "  0,\n",
       "  0,\n",
       "  0,\n",
       "  0,\n",
       "  0,\n",
       "  0,\n",
       "  0,\n",
       "  0,\n",
       "  0,\n",
       "  0,\n",
       "  0,\n",
       "  0,\n",
       "  0,\n",
       "  0],\n",
       " 'event.source': [-27410],\n",
       " '_imot': [-185, -201],\n",
       " '_vbat': [769, 769],\n",
       " 'buttons._mean': [10651, 9131, 13728, 13667, 15072],\n",
       " 'buttons._noise': [52, 41, 52, 68, 67],\n",
       " 'motor.left.speed': [85],\n",
       " 'motor.left.target': [85],\n",
       " 'motor.right.speed': [82],\n",
       " 'motor.right.target': [85],\n",
       " 'prox.comm.rx': [0],\n",
       " 'prox.comm.rx._intensities': [0, 0, 0, 0, 0, 0, 0],\n",
       " 'prox.comm.rx._payloads': [0, 0, 0, 0, 0, 0, 0],\n",
       " 'prox.comm.tx': [0],\n",
       " 'prox.ground.ambiant': [1, 2],\n",
       " 'prox.ground.delta': [1002, 992],\n",
       " 'prox.ground.reflected': [940, 793],\n",
       " 'prox.horizontal': [0, 0, 0, 0, 0, 0, 0],\n",
       " '_integrator': [-995, -1055],\n",
       " 'acc': [2, 1, 22],\n",
       " 'acc._tap': [32],\n",
       " 'leds.bottom.left': [0, 0, 0],\n",
       " 'leds.bottom.right': [0, 0, 0],\n",
       " 'leds.circle': [0, 0, 0, 0, 0, 0, 0, 0],\n",
       " 'leds.top': [0, 0, 0],\n",
       " 'mic._mean': [261],\n",
       " 'mic.intensity': [29],\n",
       " 'mic.threshold': [0],\n",
       " 'motor.left.pwm': [-321],\n",
       " 'motor.right.pwm': [-339],\n",
       " 'rc5.address': [0],\n",
       " 'rc5.command': [0],\n",
       " 'sd.present': [0],\n",
       " 'temperature': [209],\n",
       " 'timer.period': [0, 50]}"
      ]
     },
     "execution_count": 5,
     "metadata": {},
     "output_type": "execute_result"
    }
   ],
   "source": [
    "node.var"
   ]
  }
 ],
 "metadata": {
  "kernelspec": {
   "display_name": "Python 3",
   "language": "python",
   "name": "python3"
  },
  "language_info": {
   "codemirror_mode": {
    "name": "ipython",
    "version": 3
   },
   "file_extension": ".py",
   "mimetype": "text/x-python",
   "name": "python",
   "nbconvert_exporter": "python",
   "pygments_lexer": "ipython3",
   "version": "3.12.7"
  }
 },
 "nbformat": 4,
 "nbformat_minor": 2
}
