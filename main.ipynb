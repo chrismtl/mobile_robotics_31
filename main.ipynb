{
 "cells": [
  {
   "cell_type": "markdown",
   "metadata": {},
   "source": [
    "## Connection to Thymio"
   ]
  },
  {
   "cell_type": "code",
   "execution_count": 1,
   "metadata": {},
   "outputs": [
    {
     "data": {
      "text/plain": [
       "Node 52ceb7f5-6164-4bf6-b28a-33899f775678"
      ]
     },
     "execution_count": 1,
     "metadata": {},
     "output_type": "execute_result"
    }
   ],
   "source": [
    "# Connect to Thymio with ClientAsync\n",
    "from tdmclient import ClientAsync, aw\n",
    "client = ClientAsync()\n",
    "node = await client.wait_for_node()\n",
    "\n",
    "# Lock Thymio\n",
    "aw(node.lock())"
   ]
  },
  {
   "cell_type": "markdown",
   "metadata": {},
   "source": [
    "## Importation of libraries"
   ]
  },
  {
   "cell_type": "code",
   "execution_count": 2,
   "metadata": {},
   "outputs": [],
   "source": [
    "from kalman_filtering.kalman_filter import *\n",
    "from thymio.control import *\n",
    "from computer_vision.vision import *\n",
    "from path_planning.path_plan import *\n",
    "from navigation.collision_avoidance import *\n",
    "\n",
    "await node.set_variables(motors(0, 0))"
   ]
  },
  {
   "cell_type": "markdown",
   "metadata": {},
   "source": [
    "## Main script"
   ]
  },
  {
   "cell_type": "code",
   "execution_count": null,
   "metadata": {},
   "outputs": [
    {
     "name": "stdout",
     "output_type": "stream",
     "text": [
      "Center button pressed. Stopping the algorithm.\n"
     ]
    }
   ],
   "source": [
    "\n",
    "u_old = 0\n",
    "mu_predict_old = 0\n",
    "cov_predict_old = 0\n",
    "view_blocked = False\n",
    "active = True\n",
    "end = False\n",
    "start = True\n",
    "path = None\n",
    "segment_index = 0\n",
    "avoidance_mode = 0\n",
    "obj_right = False\n",
    "obstacle_pos = np.array([0, 0])\n",
    "\n",
    "map = Map()\n",
    "if P_VISION:\n",
    "    print(P_SETUP)\n",
    "    print(\"Place the Thymio and the destination, check the avoidance_modes and the corners. Then, press S.\")\n",
    "\n",
    "while True:\n",
    "    map.update(True)\n",
    "    cv.waitKey(0)\n",
    "    if cv.waitKey(10) & 0xFF==ord('s'):\n",
    "        if map.found_corners and map.found_destination:\n",
    "            map.update()\n",
    "            break\n",
    "        else:\n",
    "            print(\"USER: Must find corners before start\")\n",
    "\n",
    "if P_VISION: print(P_START)\n",
    "if P_VISION: map.info()\n",
    "await node.wait_for_variables()\n",
    "\n",
    "u_old = np.zeros(2)\n",
    "mu_predict_old = np.array([map.robot[0], map.robot[1], u_old[0], u_old[1]])\n",
    "cov_predict_old = 100*np.eye(4)\n",
    "view_blocked = False\n",
    "active = True\n",
    "end = False\n",
    "start = True\n",
    "path = None\n",
    "segment_index = 0\n",
    "destination = map.destination[0:2]\n",
    "pos_robot = map.robot[0:2]\n",
    "\n",
    "#print(\"mu_predict_old:\", mu_predict_old)\n",
    "\n",
    "while active == True:\n",
    "    active = await stop_thymio(node)\n",
    "\n",
    "    map.update()\n",
    "    \n",
    "    # State variables measurement\n",
    "    await node.wait_for_variables()\n",
    "    vel_meas = velocity_with_odometry(node, map.robot[2])\n",
    "\n",
    "    # Filtering\n",
    "    y = np.array([map.robot[0], map.robot[1], vel_meas[0], vel_meas[1]])\n",
    "    x_est, cov_est = kalman_filter(y, u_old, mu_predict_old, cov_predict_old, map.found_robot)\n",
    "    map.pose_est = np.array([int(x_est[0]), int(x_est[1]), np.arctan2(x_est[3], x_est[2])])\n",
    "    error_est = np.array([cov_est[0,0], cov_est[1,1], 0])\n",
    "    print(\"Pose estimation of the Thymio:\", map.pose_est)\n",
    "    cov_predict_old = cov_est\n",
    "    mu_predict_old = x_est\n",
    "    u_old = u\n",
    "   \n",
    "    # Check if final destination moved\n",
    "    change_dest = ((map.destination[1]-destination[1])**2 + (map.destination[0]-destination[0])**2)*0.5\n",
    "    if change_dest > 20:\n",
    "        start = True\n",
    "        print(\"Nouveau chemin\")\n",
    "\n",
    "    #  Check if the robot has been relocated\n",
    "    change_robot = ((map.robot[1]-pos_robot[1])**2 + (map.robot[0]-pos_robot[0])**2)*0.5\n",
    "    if change_robot > 60:\n",
    "        start = True\n",
    "        print(\"Nouveau chemin\")\n",
    "   \n",
    "    # Global Navigation\n",
    "    if start == True:\n",
    "        destination = map.destination[0:2]\n",
    "        ex_path, corners = compute_visibility_matrix(map.robot[0:2], destination, map.obstacles)\n",
    "        map.avoidance_modes_lines = possible_lignes(ex_path, corners)\n",
    "        map.target_lines = a_star_search(corners, ex_path)\n",
    "        path = path_functions(map.target_lines)\n",
    "        segment_index = 0\n",
    "        start = False\n",
    "\n",
    "    #local nav\n",
    "    u, avoidance_mode, segment_index, obj_right, obstacle_pos = await collision_avoidance(path, node, map.robot, avoidance_mode, segment_index, obj_right, obstacle_pos) # Zacharie\n",
    "    #print(\"avoidance_mode\", avoidance_mode)\n",
    "\n",
    "    if not avoidance_mode:\n",
    "        u, segment_index, end = path_direction(map.robot, path, segment_index)\n",
    "    \n",
    "    #update robot position\n",
    "    pos_robot = map.robot[0:2]\n",
    "\n",
    "    await node.set_variables(motors(int(u[0]), int(u[1])))\n",
    "\n",
    "    if cv.waitKey(20) & 0xFF==ord('p'):\n",
    "        map.vision_stop()\n",
    "        break"
   ]
  },
  {
   "cell_type": "markdown",
   "metadata": {},
   "source": [
    "## Thymio velocity measurements"
   ]
  },
  {
   "cell_type": "code",
   "execution_count": null,
   "metadata": {},
   "outputs": [
    {
     "name": "stdout",
     "output_type": "stream",
     "text": [
      "Center button pressed. Stopping the algorithm.\n",
      "Length of vel_meas: 1\n",
      "Velocity measured: []\n",
      "Velocity mean: nan\n",
      "Velocity variance: nan\n"
     ]
    },
    {
     "name": "stderr",
     "output_type": "stream",
     "text": [
      "c:\\Users\\samyg\\AppData\\Local\\Programs\\Python\\Python310\\lib\\site-packages\\numpy\\core\\fromnumeric.py:3504: RuntimeWarning: Mean of empty slice.\n",
      "  return _methods._mean(a, axis=axis, dtype=dtype,\n",
      "c:\\Users\\samyg\\AppData\\Local\\Programs\\Python\\Python310\\lib\\site-packages\\numpy\\core\\_methods.py:129: RuntimeWarning: invalid value encountered in scalar divide\n",
      "  ret = ret.dtype.type(ret / rcount)\n",
      "c:\\Users\\samyg\\AppData\\Local\\Programs\\Python\\Python310\\lib\\site-packages\\numpy\\core\\fromnumeric.py:3787: RuntimeWarning: Degrees of freedom <= 0 for slice\n",
      "  return _methods._var(a, axis=axis, dtype=dtype, out=out, ddof=ddof,\n",
      "c:\\Users\\samyg\\AppData\\Local\\Programs\\Python\\Python310\\lib\\site-packages\\numpy\\core\\_methods.py:163: RuntimeWarning: invalid value encountered in divide\n",
      "  arrmean = um.true_divide(arrmean, div, out=arrmean,\n",
      "c:\\Users\\samyg\\AppData\\Local\\Programs\\Python\\Python310\\lib\\site-packages\\numpy\\core\\_methods.py:198: RuntimeWarning: invalid value encountered in scalar divide\n",
      "  ret = ret.dtype.type(ret / rcount)\n"
     ]
    }
   ],
   "source": [
    "active = True\n",
    "vel_meas = []\n",
    "\n",
    "while active:\n",
    "    await node.wait_for_variables()\n",
    "    await node.set_variables(motors(100, 100))\n",
    "    vel_meas.append(velocity_with_odometry(node, 0)[0])\n",
    "    active = await stop_thymio(node)\n",
    "\n",
    "await node.set_variables(motors(0, 0)) \n",
    "\n",
    "vel_meas_mean = np.mean(vel_meas[10:])\n",
    "vel_meas_var = np.var(vel_meas[10:])\n",
    "print(\"Length of vel_meas:\", len(vel_meas))\n",
    "print(\"Velocity measured:\", vel_meas[10:])\n",
    "print(\"Velocity mean:\", vel_meas_mean)\n",
    "print(\"Velocity variance:\", vel_meas_var)"
   ]
  },
  {
   "cell_type": "code",
   "execution_count": 5,
   "metadata": {},
   "outputs": [
    {
     "data": {
      "text/plain": [
       "{'error_code': 2}"
      ]
     },
     "execution_count": 5,
     "metadata": {},
     "output_type": "execute_result"
    }
   ],
   "source": [
    "import time\n",
    "\n",
    "timer = 0\n",
    "start = time.time()\n",
    "\n",
    "while timer < 10:\n",
    "    await node.set_variables(motors(97, 100))\n",
    "    timer = time.time() - start\n",
    "\n",
    "await node.set_variables(motors(0, 0))"
   ]
  },
  {
   "cell_type": "code",
   "execution_count": 6,
   "metadata": {},
   "outputs": [
    {
     "data": {
      "text/plain": [
       "{'error_code': 2}"
      ]
     },
     "execution_count": 6,
     "metadata": {},
     "output_type": "execute_result"
    }
   ],
   "source": [
    "await node.set_variables(motors(0, 0))\n"
   ]
  },
  {
   "cell_type": "code",
   "execution_count": 7,
   "metadata": {},
   "outputs": [
    {
     "name": "stdout",
     "output_type": "stream",
     "text": [
      "Robot velocity mean: 3.3689999999999998\n",
      "Robot velocity variance: 0.0008090000000000007\n"
     ]
    }
   ],
   "source": [
    "robot_vel = np.array([3.35,3.36,3.35,3.39,3.36,3.33,3.34,3.38,3.42,3.41])\n",
    "\n",
    "robot_vel_mean = np.mean(robot_vel)\n",
    "robot_vel_var = np.var(robot_vel)\n",
    "\n",
    "print(\"Robot velocity mean:\", robot_vel_mean)\n",
    "print(\"Robot velocity variance:\", robot_vel_var)"
   ]
  },
  {
   "cell_type": "markdown",
   "metadata": {},
   "source": [
    "## Thymio position measurements"
   ]
  },
  {
   "cell_type": "code",
   "execution_count": 8,
   "metadata": {},
   "outputs": [
    {
     "ename": "TypeError",
     "evalue": "unsupported operand type(s) for -: 'NoneType' and 'int'",
     "output_type": "error",
     "traceback": [
      "\u001b[1;31m---------------------------------------------------------------------------\u001b[0m",
      "\u001b[1;31mTypeError\u001b[0m                                 Traceback (most recent call last)",
      "Cell \u001b[1;32mIn[8], line 5\u001b[0m\n\u001b[0;32m      3\u001b[0m robot_positions_x \u001b[38;5;241m=\u001b[39m []\n\u001b[0;32m      4\u001b[0m robot_positions_y \u001b[38;5;241m=\u001b[39m []\n\u001b[1;32m----> 5\u001b[0m \u001b[38;5;28;43mmap\u001b[39;49m\u001b[38;5;241;43m.\u001b[39;49m\u001b[43mupdate\u001b[49m\u001b[43m(\u001b[49m\u001b[38;5;28;43;01mTrue\u001b[39;49;00m\u001b[43m)\u001b[49m\n\u001b[0;32m      6\u001b[0m \u001b[38;5;28;01mwhile\u001b[39;00m \u001b[38;5;28;01mTrue\u001b[39;00m:\n\u001b[0;32m      7\u001b[0m     \u001b[38;5;28mmap\u001b[39m\u001b[38;5;241m.\u001b[39mupdate()\n",
      "File \u001b[1;32mc:\\Users\\samyg\\OneDrive\\Bureau\\Vie sérieuse\\Etudes\\Polytechnique\\Échange A24\\MICRO-452\\mobile_robotics_31-main\\computer_vision\\vision.py:118\u001b[0m, in \u001b[0;36mMap.update\u001b[1;34m(self, setup)\u001b[0m\n\u001b[0;32m    116\u001b[0m     \u001b[38;5;28;01mif\u001b[39;00m \u001b[38;5;28mself\u001b[39m\u001b[38;5;241m.\u001b[39mfound_corners:\n\u001b[0;32m    117\u001b[0m         \u001b[38;5;28mself\u001b[39m\u001b[38;5;241m.\u001b[39mfind_thymio_destination()\n\u001b[1;32m--> 118\u001b[0m         \u001b[38;5;28;43mself\u001b[39;49m\u001b[38;5;241;43m.\u001b[39;49m\u001b[43mdetect_global_obstacles\u001b[49m\u001b[43m(\u001b[49m\u001b[43m)\u001b[49m\n\u001b[0;32m    119\u001b[0m \u001b[38;5;28;01melse\u001b[39;00m:\n\u001b[0;32m    120\u001b[0m     \u001b[38;5;28mself\u001b[39m\u001b[38;5;241m.\u001b[39mfind_thymio_destination()\n",
      "File \u001b[1;32mc:\\Users\\samyg\\OneDrive\\Bureau\\Vie sérieuse\\Etudes\\Polytechnique\\Échange A24\\MICRO-452\\mobile_robotics_31-main\\computer_vision\\vision.py:166\u001b[0m, in \u001b[0;36mMap.detect_global_obstacles\u001b[1;34m(self)\u001b[0m\n\u001b[0;32m    164\u001b[0m corners \u001b[38;5;241m=\u001b[39m geom\u001b[38;5;241m.\u001b[39mremove_close_points(corners) \u001b[38;5;66;03m# Remove duplicates\u001b[39;00m\n\u001b[0;32m    165\u001b[0m corners \u001b[38;5;241m=\u001b[39m geom\u001b[38;5;241m.\u001b[39maugment_corners(corners) \u001b[38;5;66;03m# Compute augmented obstacle\u001b[39;00m\n\u001b[1;32m--> 166\u001b[0m \u001b[38;5;28;01mif\u001b[39;00m \u001b[38;5;129;01mnot\u001b[39;00m \u001b[43mon_points\u001b[49m\u001b[43m(\u001b[49m\u001b[43mcorners\u001b[49m\u001b[43m,\u001b[49m\u001b[43m \u001b[49m\u001b[43m[\u001b[49m\u001b[38;5;28;43mself\u001b[39;49m\u001b[38;5;241;43m.\u001b[39;49m\u001b[43mrobot\u001b[49m\u001b[43m[\u001b[49m\u001b[38;5;241;43m0\u001b[39;49m\u001b[43m:\u001b[49m\u001b[38;5;241;43m2\u001b[39;49m\u001b[43m]\u001b[49m\u001b[43m,\u001b[49m\u001b[38;5;28;43mself\u001b[39;49m\u001b[38;5;241;43m.\u001b[39;49m\u001b[43mdestination\u001b[49m\u001b[43m[\u001b[49m\u001b[38;5;241;43m0\u001b[39;49m\u001b[43m:\u001b[49m\u001b[38;5;241;43m2\u001b[39;49m\u001b[43m]\u001b[49m\u001b[43m]\u001b[49m\u001b[43m,\u001b[49m\u001b[43m \u001b[49m\u001b[43m[\u001b[49m\u001b[43mMIN_DIST_TO_ROBOT\u001b[49m\u001b[43m,\u001b[49m\u001b[43m \u001b[49m\u001b[43mMIN_DIST_TO_DESTINATION\u001b[49m\u001b[43m]\u001b[49m\u001b[43m)\u001b[49m:   \u001b[38;5;66;03m# Check if it is not the robot or on the destination\u001b[39;00m\n\u001b[0;32m    167\u001b[0m     \u001b[38;5;28mself\u001b[39m\u001b[38;5;241m.\u001b[39mobstacles\u001b[38;5;241m.\u001b[39mappend(corners)\n",
      "File \u001b[1;32mc:\\Users\\samyg\\OneDrive\\Bureau\\Vie sérieuse\\Etudes\\Polytechnique\\Échange A24\\MICRO-452\\mobile_robotics_31-main\\computer_vision\\geometry.py:31\u001b[0m, in \u001b[0;36mon_points\u001b[1;34m(corners, points, limits)\u001b[0m\n\u001b[0;32m     29\u001b[0m \u001b[38;5;28;01mif\u001b[39;00m \u001b[38;5;28mlen\u001b[39m(points)\u001b[38;5;241m==\u001b[39m\u001b[38;5;28mlen\u001b[39m(limits):\n\u001b[0;32m     30\u001b[0m     \u001b[38;5;28;01mfor\u001b[39;00m point,limit \u001b[38;5;129;01min\u001b[39;00m \u001b[38;5;28mzip\u001b[39m(points,limits):\n\u001b[1;32m---> 31\u001b[0m         dist_to_point \u001b[38;5;241m=\u001b[39m np\u001b[38;5;241m.\u001b[39mlinalg\u001b[38;5;241m.\u001b[39mnorm(\u001b[43mnp\u001b[49m\u001b[38;5;241;43m.\u001b[39;49m\u001b[43marray\u001b[49m\u001b[43m(\u001b[49m\u001b[43mpoint\u001b[49m\u001b[43m)\u001b[49m\u001b[38;5;241;43m-\u001b[39;49m\u001b[43mnp\u001b[49m\u001b[38;5;241;43m.\u001b[39;49m\u001b[43mmean\u001b[49m\u001b[43m(\u001b[49m\u001b[43mcorners\u001b[49m\u001b[43m,\u001b[49m\u001b[43maxis\u001b[49m\u001b[38;5;241;43m=\u001b[39;49m\u001b[38;5;241;43m0\u001b[39;49m\u001b[43m)\u001b[49m\u001b[38;5;241;43m.\u001b[39;49m\u001b[43mastype\u001b[49m\u001b[43m(\u001b[49m\u001b[38;5;28;43mint\u001b[39;49m\u001b[43m)\u001b[49m)\n\u001b[0;32m     32\u001b[0m         \u001b[38;5;28;01mif\u001b[39;00m dist_to_point\u001b[38;5;241m<\u001b[39mlimit:\n\u001b[0;32m     33\u001b[0m             \u001b[38;5;28;01mreturn\u001b[39;00m \u001b[38;5;28;01mTrue\u001b[39;00m\n",
      "\u001b[1;31mTypeError\u001b[0m: unsupported operand type(s) for -: 'NoneType' and 'int'"
     ]
    }
   ],
   "source": [
    "map = Map()\n",
    "\n",
    "robot_positions_x = []\n",
    "robot_positions_y = []\n",
    "map.update(True)\n",
    "while True:\n",
    "    map.update()\n",
    "    robot_position_x = map.robot[0]\n",
    "    robot_position_y = map.robot[1]\n",
    "    robot_positions_x.append(robot_position_x)\n",
    "    robot_positions_y.append(robot_position_y)\n",
    "    if cv.waitKey(20) & 0xFF==ord(\"d\"):\n",
    "        map.vision_stop()\n",
    "        break\n",
    "\n",
    "robot_positions_x_mean = np.mean(robot_positions_x[10:])\n",
    "robot_positions_x_var = np.var(robot_positions_x[10:])\n",
    "robot_positions_y_mean = np.mean(robot_positions_y[10:])\n",
    "robot_positions_y_var = np.var(robot_positions_y[10:])\n",
    "\n",
    "print(\"Position x measured:\", robot_positions_x[10:])\n",
    "print(\"Position x mean:\", robot_positions_x_mean)\n",
    "print(\"Position x variance:\", robot_positions_x_var)\n",
    "\n",
    "print(\"Position y measured:\", robot_positions_y[10:])\n",
    "print(\"Position y mean:\", robot_positions_y_mean)\n",
    "print(\"Position y variance:\", robot_positions_y_var)"
   ]
  },
  {
   "cell_type": "code",
   "execution_count": null,
   "metadata": {},
   "outputs": [
    {
     "data": {
      "text/plain": [
       "{'_fwversion': [14, 0],\n",
       " '_id': [-27410],\n",
       " '_imot': [-17, -189],\n",
       " '_integrator': [689, -1116],\n",
       " '_productId': [8],\n",
       " '_vbat': [718, 717],\n",
       " 'acc': [1, -1, 24],\n",
       " 'acc._tap': [32],\n",
       " 'button.backward': [0],\n",
       " 'button.center': [1],\n",
       " 'button.forward': [0],\n",
       " 'button.left': [0],\n",
       " 'button.right': [0],\n",
       " 'buttons._mean': [10655, 9142, 13730, 13675, 15078],\n",
       " 'buttons._noise': [57, 46, 60, 53, 80],\n",
       " 'buttons._raw': [10641, 9140, 13538, 13663, 15020],\n",
       " 'event.args': [0,\n",
       "  0,\n",
       "  0,\n",
       "  0,\n",
       "  0,\n",
       "  0,\n",
       "  0,\n",
       "  0,\n",
       "  0,\n",
       "  0,\n",
       "  0,\n",
       "  0,\n",
       "  0,\n",
       "  0,\n",
       "  0,\n",
       "  0,\n",
       "  0,\n",
       "  0,\n",
       "  0,\n",
       "  0,\n",
       "  0,\n",
       "  0,\n",
       "  0,\n",
       "  0,\n",
       "  0,\n",
       "  0,\n",
       "  0,\n",
       "  0,\n",
       "  0,\n",
       "  0,\n",
       "  0,\n",
       "  0],\n",
       " 'event.source': [-27410],\n",
       " 'leds.bottom.left': [0, 0, 0],\n",
       " 'leds.bottom.right': [0, 0, 0],\n",
       " 'leds.circle': [0, 0, 0, 0, 0, 0, 0, 0],\n",
       " 'leds.top': [0, 0, 0],\n",
       " 'mic._mean': [261],\n",
       " 'mic.intensity': [29],\n",
       " 'mic.threshold': [0],\n",
       " 'motor.left.pwm': [329],\n",
       " 'motor.left.speed': [-72],\n",
       " 'motor.left.target': [-100],\n",
       " 'motor.right.pwm': [-419],\n",
       " 'motor.right.speed': [100],\n",
       " 'motor.right.target': [100],\n",
       " 'prox.comm.rx': [0],\n",
       " 'prox.comm.rx._intensities': [0, 0, 0, 0, 0, 0, 0],\n",
       " 'prox.comm.rx._payloads': [0, 0, 0, 0, 0, 0, 0],\n",
       " 'prox.comm.tx': [0],\n",
       " 'prox.ground.ambiant': [1, 2],\n",
       " 'prox.ground.delta': [990, 997],\n",
       " 'prox.ground.reflected': [925, 821],\n",
       " 'prox.horizontal': [0, 0, 0, 0, 0, 0, 0],\n",
       " 'rc5.address': [0],\n",
       " 'rc5.command': [0],\n",
       " 'sd.present': [0],\n",
       " 'temperature': [235],\n",
       " 'timer.period': [0, 50]}"
      ]
     },
     "execution_count": 5,
     "metadata": {},
     "output_type": "execute_result"
    }
   ],
   "source": [
    "node.var"
   ]
  }
 ],
 "metadata": {
  "kernelspec": {
   "display_name": "base",
   "language": "python",
   "name": "python3"
  },
  "language_info": {
   "codemirror_mode": {
    "name": "ipython",
    "version": 3
   },
   "file_extension": ".py",
   "mimetype": "text/x-python",
   "name": "python",
   "nbconvert_exporter": "python",
   "pygments_lexer": "ipython3",
   "version": "3.12.4"
  }
 },
 "nbformat": 4,
 "nbformat_minor": 2
}
