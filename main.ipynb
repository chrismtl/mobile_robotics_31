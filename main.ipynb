{
 "cells": [
  {
   "cell_type": "markdown",
   "metadata": {},
   "source": [
    "## Connection to Thymio"
   ]
  },
  {
   "cell_type": "code",
   "execution_count": 1,
   "metadata": {},
   "outputs": [
    {
     "data": {
      "text/plain": [
       "Node fe36b4a4-2452-4ab5-8d68-b28bb42f53d5"
      ]
     },
     "execution_count": 1,
     "metadata": {},
     "output_type": "execute_result"
    }
   ],
   "source": [
    "# Connect to Thymio with ClientAsync\n",
    "from tdmclient import ClientAsync, aw\n",
    "client = ClientAsync()\n",
    "node = await client.wait_for_node()\n",
    "\n",
    "# Lock Thymio\n",
    "aw(node.lock())"
   ]
  },
  {
   "cell_type": "markdown",
   "metadata": {},
   "source": [
    "## Importation of libraries"
   ]
  },
  {
   "cell_type": "code",
   "execution_count": null,
   "metadata": {},
   "outputs": [
    {
     "name": "stdout",
     "output_type": "stream",
     "text": [
      "c:\\Users\\samyg\\OneDrive\\Bureau\\Vie sérieuse\\Etudes\\Polytechnique\\Échange A24\\MICRO-452\\mobile_robotics_31-main\n"
     ]
    }
   ],
   "source": [
    "import os\n",
    "#print(os.getcwd())\n",
    "#os.chdir('..')\n",
    "print(os.getcwd())"
   ]
  },
  {
   "cell_type": "code",
   "execution_count": 7,
   "metadata": {},
   "outputs": [],
   "source": [
    "from kalman_filtering.kalman_filter import *\n",
    "from thymio.control import *\n",
    "from computer_vision.vision import *\n",
    "from path_planning.path_plan import *"
   ]
  },
  {
   "cell_type": "markdown",
   "metadata": {},
   "source": [
    "## Main script"
   ]
  },
  {
   "cell_type": "code",
   "execution_count": 9,
   "metadata": {},
   "outputs": [
    {
     "name": "stdout",
     "output_type": "stream",
     "text": [
      "{}\n"
     ]
    },
    {
     "ename": "AttributeError",
     "evalue": "'Map' object has no attribute 'initial_frame'",
     "output_type": "error",
     "traceback": [
      "\u001b[1;31m---------------------------------------------------------------------------\u001b[0m",
      "\u001b[1;31mAttributeError\u001b[0m                            Traceback (most recent call last)",
      "Cell \u001b[1;32mIn[9], line 12\u001b[0m\n\u001b[0;32m      9\u001b[0m segment_index \u001b[38;5;241m=\u001b[39m \u001b[38;5;241m0\u001b[39m\n\u001b[0;32m     10\u001b[0m obstacle \u001b[38;5;241m=\u001b[39m \u001b[38;5;241m0\u001b[39m\n\u001b[1;32m---> 12\u001b[0m \u001b[38;5;28mmap\u001b[39m \u001b[38;5;241m=\u001b[39m \u001b[43mMap\u001b[49m\u001b[43m(\u001b[49m\u001b[43m)\u001b[49m\n\u001b[0;32m     14\u001b[0m \u001b[38;5;28;01mwhile\u001b[39;00m active \u001b[38;5;241m==\u001b[39m \u001b[38;5;28;01mTrue\u001b[39;00m:\n\u001b[0;32m     15\u001b[0m     \u001b[38;5;66;03m#active = await stop_thymio(node)\u001b[39;00m\n\u001b[0;32m     17\u001b[0m     \u001b[38;5;28mmap\u001b[39m\u001b[38;5;241m.\u001b[39mupdate()\n",
      "File \u001b[1;32mc:\\Users\\samyg\\OneDrive\\Bureau\\Vie sérieuse\\Etudes\\Polytechnique\\Échange A24\\MICRO-452\\mobile_robotics_31-main\\computer_vision\\vision.py:45\u001b[0m, in \u001b[0;36mMap.__init__\u001b[1;34m(self)\u001b[0m\n\u001b[0;32m     42\u001b[0m \u001b[38;5;28;01mif\u001b[39;00m \u001b[38;5;28mlen\u001b[39m(\u001b[38;5;28mself\u001b[39m\u001b[38;5;241m.\u001b[39mmap_corners)\u001b[38;5;241m==\u001b[39m\u001b[38;5;241m4\u001b[39m:\n\u001b[0;32m     43\u001b[0m     \u001b[38;5;28mself\u001b[39m\u001b[38;5;241m.\u001b[39minitial_frame \u001b[38;5;241m=\u001b[39m \u001b[38;5;28mself\u001b[39m\u001b[38;5;241m.\u001b[39mflatten_scene(\u001b[38;5;28mself\u001b[39m\u001b[38;5;241m.\u001b[39mraw_frame)\n\u001b[1;32m---> 45\u001b[0m \u001b[38;5;28;43mself\u001b[39;49m\u001b[38;5;241;43m.\u001b[39;49m\u001b[43mdetect_obstacles\u001b[49m\u001b[43m(\u001b[49m\u001b[43m)\u001b[49m\n\u001b[0;32m     47\u001b[0m \u001b[38;5;66;03m# Load the camera parameters from the saved file\u001b[39;00m\n\u001b[0;32m     48\u001b[0m cv_file \u001b[38;5;241m=\u001b[39m cv\u001b[38;5;241m.\u001b[39mFileStorage(\n\u001b[0;32m     49\u001b[0m     CAMERA_CALIBRATION_FILE, cv\u001b[38;5;241m.\u001b[39mFILE_STORAGE_READ) \n",
      "File \u001b[1;32mc:\\Users\\samyg\\OneDrive\\Bureau\\Vie sérieuse\\Etudes\\Polytechnique\\Échange A24\\MICRO-452\\mobile_robotics_31-main\\computer_vision\\vision.py:121\u001b[0m, in \u001b[0;36mMap.detect_obstacles\u001b[1;34m(self)\u001b[0m\n\u001b[0;32m    119\u001b[0m \u001b[38;5;28;01mdef\u001b[39;00m \u001b[38;5;21mdetect_obstacles\u001b[39m(\u001b[38;5;28mself\u001b[39m):\n\u001b[0;32m    120\u001b[0m     \u001b[38;5;66;03m# Create local copy of the frame that we will use for treatment\u001b[39;00m\n\u001b[1;32m--> 121\u001b[0m     frame \u001b[38;5;241m=\u001b[39m \u001b[38;5;28;43mself\u001b[39;49m\u001b[38;5;241;43m.\u001b[39;49m\u001b[43minitial_frame\u001b[49m\u001b[38;5;241m.\u001b[39mcopy()\n\u001b[0;32m    122\u001b[0m     \u001b[38;5;66;03m# Detect edges\u001b[39;00m\n\u001b[0;32m    123\u001b[0m     frame \u001b[38;5;241m=\u001b[39m cv\u001b[38;5;241m.\u001b[39mcvtColor(frame, cv\u001b[38;5;241m.\u001b[39mCOLOR_BGR2GRAY)\n",
      "\u001b[1;31mAttributeError\u001b[0m: 'Map' object has no attribute 'initial_frame'"
     ]
    }
   ],
   "source": [
    "u_old = 0\n",
    "mu_predict_old = 0\n",
    "cov_predict_old = 0\n",
    "view_blocked = False\n",
    "active = True\n",
    "end = False\n",
    "start = True\n",
    "path = None\n",
    "segment_index = 0\n",
    "obstacle = 0\n",
    "\n",
    "map = Map()\n",
    "\n",
    "while active == True:\n",
    "    #active = await stop_thymio(node)\n",
    "\n",
    "    map.update()\n",
    "    map.show()\n",
    "    \n",
    "    # State variables measurement\n",
    "    await node.wait_for_variables()\n",
    "    vel_meas = velocity_with_odometry(node, map.robot[2])\n",
    "\n",
    "    # Filtering\n",
    "    y = np.array([map.robot[0]], [map.robot[1]], [vel_meas[0]], [vel_meas[1]])\n",
    "    x_est, cov_est = kalman_filter(y, u_old, mu_predict_old, cov_predict_old, view_blocked)\n",
    "    pose_est = x_est[0:2]\n",
    "    pose_est.append(map.robot[2])\n",
    "    error_est = cov_est[0:2]\n",
    "    error_est.append(0)\n",
    "\n",
    "    # Global Navigation\n",
    "    #create path\n",
    "    if start == True:\n",
    "        ex_path, corners = compute_visibility_matrix(map.obstacles) \n",
    "        map.target_lines = a_star_search(map.robot[0:2], map.destination[0:2],corners,ex_path)\n",
    "        path = path_functions(map.target_lines)\n",
    "        start = False\n",
    "        map.obstacles_lines = possible_lignes(ex_path, corners)\n",
    "\n",
    "\n",
    "    # Local Navigation\n",
    "    #u, obstacle, segment_index = collision_avoidance(path, pose_est, error_est, old_obstacle, segment_index) # Zacharie\n",
    "\n",
    "    # Global Navigation\n",
    "    if not obstacle:\n",
    "        u, segment_index, end = path_direction(pose_est, path, segment_index)\n",
    "\n",
    "\n",
    "    motors(u[0], u[1])\n",
    "\n",
    "    u_old = u\n",
    "    cov_predict_old = cov_est\n",
    "    mu_predict_old = x_est\n",
    "    obstacle_old = obstacle\n",
    "\n",
    "    if cv.waitKey(1) != -1:\n",
    "        map.vision_stop()\n",
    "        break\n",
    "\n",
    "map.info()\n",
    "cv.destroyAllWindows()\n"
   ]
  },
  {
   "cell_type": "markdown",
   "metadata": {},
   "source": [
    "## Motors control test"
   ]
  },
  {
   "cell_type": "code",
   "execution_count": 10,
   "metadata": {},
   "outputs": [
    {
     "name": "stdout",
     "output_type": "stream",
     "text": [
      "Center button pressed. Stopping the algorithm.\n",
      "Velocity measured: [97.5, 2.5, -3.0, -3.0, -3.0, -4.0, -4.0, 6.0, 6.0, 0.5, 0.5, 0.0, 0.0, 6.5, 6.5, -9.0, -9.0, 5.5, 5.5, 5.5, 0.5, 0.5, 2.0, 2.0, 3.5, 3.5, -4.0, -4.0, -4.0, -2.0, -2.0, -3.5, -3.5, -0.5, -0.5, 1.5, 1.5, 2.0, 2.0, -5.0, -5.0, -5.0, 2.0, 2.0, -5.0, -5.0, -5.0, -6.0, -6.0, 3.0, 3.0, -1.0, -1.0, 5.0, 5.0, -3.5, -3.5, -8.0, -8.0, -3.0, -3.0, 2.0, 2.0, 2.0, 4.0, 4.0, 3.0, 3.0, 1.0, 1.0, -2.0, -2.0, -1.0, -1.0, -1.5, -1.5, 3.5, 3.5, 3.5, -3.0, -3.0, -3.0, -3.0, 0.5, 0.5, 5.5, 5.5, 4.0, 4.0, 6.0, 3.5, 3.5, 3.5, -3.0, -3.0, 3.5, 3.5, -0.5, -0.5, 4.0, 4.0, 4.0, -3.0, -3.0, -1.0, -1.0, -5.5, -5.5, 5.5, 5.5, 2.0, 2.0, 4.5, 4.5, 8.5, 8.5, 3.0, 3.0, 9.5, 9.5, -6.5, -6.5, -6.5, -6.5, -6.5, -9.0, -9.0, -6.0, -6.0, -4.5, -4.5, -5.5, -5.5, 1.5, 1.5, 1.0, 1.0, -5.5, -5.5, -3.5, -3.5, -3.5, 1.0, 1.0, 3.5, 3.5, 1.0, 1.0, -6.5, -6.5, -6.5, -9.0, -9.0, 7.0, 1.5, 1.5, 10.5, 10.5, 2.5, 2.5, 7.0, 7.0, 4.5, 4.5, -2.0, -2.0, -7.5, -7.5, -7.5, -1.5, -1.5, -0.5, -0.5, -0.5, 0.0, 2.0, 2.0, 10.5, 10.5, 10.5, 1.0, 1.0, 4.5, 4.5, 2.0, 2.0, 8.5, 8.5, 8.5, 2.5, -2.5, -2.5, -2.5, -1.5, -1.5, 1.0, 1.0, 0.0, 0.0, 0.0, -0.5, -0.5, 4.0, 4.0, 1.0, 1.0, 3.0, 3.0, 3.0, -5.5, -5.5, 1.0, 1.0, 9.5, 9.5, 9.5, 8.0, 8.0, 2.0, -7.5, -7.5, -6.0, -6.0, 3.5, 3.5, 3.5, 0.0, 0.0, -1.0, -1.0, -3.5, -3.5, -3.5, -1.0, -1.0, -5.0, -5.0, -0.5, -0.5, 2.0, 2.0, -3.0, -3.0, -3.0, -3.0, -3.0, -3.0, -6.0, -6.0, -0.5, -0.5, -0.5, 1.0, 1.0, 1.5, 1.5, -3.0, -3.0, -7.0, -7.0, -4.0, -4.0, 5.5, 5.5, 5.5, 1.5, 1.5, -3.0, -3.0, -3.5, -3.5, 3.0, 3.0, -5.5, -5.5, -3.0, -3.0, -3.0, -8.5, -8.5, 4.0, 4.0, 2.0, 2.0, 2.0, 0.5, 0.5, -3.0, -3.0, 2.5, 2.5, 1.5, 1.5, -6.5, -6.5, -6.5, -0.5, -0.5, 2.0, 2.5, 2.5, 2.5, -7.0, -7.0, -1.5, 2.0, 2.0, -1.0, -1.0, -1.0, -1.0, -3.5, -3.5, 1.0, 1.0, -5.5, -5.5, -5.5, 1.0, 1.0, -1.5, -1.5, 5.5, 5.5, -8.5, -8.5, 0.5, 0.5, 4.0, 4.0, -1.0, -1.0, -4.5, -4.5, -1.0, -1.0, -4.5, -4.5, -4.5, 2.0, 2.0, -1.5, -1.5, 2.0, 2.0]\n",
      "Velocity mean: -1.175\n",
      "Velocity variance: 13.236875\n"
     ]
    },
    {
     "name": "stderr",
     "output_type": "stream",
     "text": [
      "Exception in thread Thread-3:\n",
      "Traceback (most recent call last):\n",
      "  File \"c:\\Users\\samyg\\AppData\\Local\\Programs\\Python\\Python310\\lib\\threading.py\", line 1016, in _bootstrap_inner\n",
      "    self.run()\n",
      "  File \"c:\\Users\\samyg\\AppData\\Local\\Programs\\Python\\Python310\\lib\\site-packages\\tdmclient\\tcp.py\", line 73, in run\n",
      "    packet = self.read_packet()\n",
      "  File \"c:\\Users\\samyg\\AppData\\Local\\Programs\\Python\\Python310\\lib\\site-packages\\tdmclient\\tcp.py\", line 66, in read_packet\n",
      "    raise error\n",
      "  File \"c:\\Users\\samyg\\AppData\\Local\\Programs\\Python\\Python310\\lib\\site-packages\\tdmclient\\tcp.py\", line 59, in read_packet\n",
      "    packet_len = self.read_uint32()\n",
      "  File \"c:\\Users\\samyg\\AppData\\Local\\Programs\\Python\\Python310\\lib\\site-packages\\tdmclient\\tcp.py\", line 46, in read_uint32\n",
      "    b = self.io.read(4)\n",
      "  File \"c:\\Users\\samyg\\AppData\\Local\\Programs\\Python\\Python310\\lib\\site-packages\\tdmclient\\tcp.py\", line 99, in read\n",
      "    return self.socket.recv(n)\n",
      "ConnectionResetError: [WinError 10054] An existing connection was forcibly closed by the remote host\n"
     ]
    }
   ],
   "source": [
    "active = True\n",
    "vel_meas = []\n",
    "\n",
    "while active:\n",
    "    await node.wait_for_variables()\n",
    "    vel_meas.append(velocity_with_odometry(node, 0)[0])\n",
    "    await node.set_variables(motors(-100, 100))\n",
    "    active = await stop_thymio(node)\n",
    "\n",
    "await node.set_variables(motors(0, 0)) \n",
    "\n",
    "vel_meas_mean = np.mean(vel_meas[-100:])\n",
    "vel_meas_var = np.var(vel_meas[-100:])\n",
    "print(\"Velocity measured:\", vel_meas)\n",
    "print(\"Velocity mean:\", vel_meas_mean)\n",
    "print(\"Velocity variance:\", vel_meas_var)"
   ]
  },
  {
   "cell_type": "code",
   "execution_count": 6,
   "metadata": {},
   "outputs": [
    {
     "data": {
      "text/plain": [
       "{'_fwversion': [14, 0],\n",
       " '_id': [-1010],\n",
       " '_imot': [-200, -186],\n",
       " '_integrator': [-1052, -1048],\n",
       " '_productId': [8],\n",
       " '_vbat': [747, 753],\n",
       " 'acc': [0, 0, 20],\n",
       " 'acc._tap': [82],\n",
       " 'button.backward': [0],\n",
       " 'button.center': [1],\n",
       " 'button.forward': [0],\n",
       " 'button.left': [0],\n",
       " 'button.right': [0],\n",
       " 'buttons._mean': [11080, 9442, 14275, 14186, 15623],\n",
       " 'buttons._noise': [66, 42, 51, 46, 62],\n",
       " 'buttons._raw': [11072, 9439, 13535, 14190, 15621],\n",
       " 'event.args': [0,\n",
       "  0,\n",
       "  0,\n",
       "  0,\n",
       "  0,\n",
       "  0,\n",
       "  0,\n",
       "  0,\n",
       "  0,\n",
       "  0,\n",
       "  0,\n",
       "  0,\n",
       "  0,\n",
       "  0,\n",
       "  0,\n",
       "  0,\n",
       "  0,\n",
       "  0,\n",
       "  0,\n",
       "  0,\n",
       "  0,\n",
       "  0,\n",
       "  0,\n",
       "  0,\n",
       "  0,\n",
       "  0,\n",
       "  0,\n",
       "  0,\n",
       "  0,\n",
       "  0,\n",
       "  0,\n",
       "  0],\n",
       " 'event.source': [-1010],\n",
       " 'leds.bottom.left': [0, 0, 0],\n",
       " 'leds.bottom.right': [0, 0, 0],\n",
       " 'leds.circle': [0, 0, 0, 0, 0, 0, 0, 0],\n",
       " 'leds.top': [0, 0, 0],\n",
       " 'mic._mean': [257],\n",
       " 'mic.intensity': [111],\n",
       " 'mic.threshold': [0],\n",
       " 'motor.left.pwm': [-304],\n",
       " 'motor.left.speed': [108],\n",
       " 'motor.left.target': [100],\n",
       " 'motor.right.pwm': [-328],\n",
       " 'motor.right.speed': [95],\n",
       " 'motor.right.target': [100],\n",
       " 'prox.comm.rx': [0],\n",
       " 'prox.comm.rx._intensities': [0, 0, 0, 0, 0, 0, 0],\n",
       " 'prox.comm.rx._payloads': [0, 0, 0, 0, 0, 0, 0],\n",
       " 'prox.comm.tx': [0],\n",
       " 'prox.ground.ambiant': [2, 1],\n",
       " 'prox.ground.delta': [1018, 1018],\n",
       " 'prox.ground.reflected': [926, 938],\n",
       " 'prox.horizontal': [0, 0, 0, 0, 0, 0, 0],\n",
       " 'rc5.address': [0],\n",
       " 'rc5.command': [0],\n",
       " 'sd.present': [0],\n",
       " 'temperature': [246],\n",
       " 'timer.period': [0, 0]}"
      ]
     },
     "execution_count": 6,
     "metadata": {},
     "output_type": "execute_result"
    }
   ],
   "source": [
    "node.var"
   ]
  }
 ],
 "metadata": {
  "kernelspec": {
   "display_name": "Python 3",
   "language": "python",
   "name": "python3"
  },
  "language_info": {
   "codemirror_mode": {
    "name": "ipython",
    "version": 3
   },
   "file_extension": ".py",
   "mimetype": "text/x-python",
   "name": "python",
   "nbconvert_exporter": "python",
   "pygments_lexer": "ipython3",
   "version": "3.10.5"
  }
 },
 "nbformat": 4,
 "nbformat_minor": 2
}
