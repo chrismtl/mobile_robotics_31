{
 "cells": [
  {
   "cell_type": "markdown",
   "metadata": {},
   "source": [
    "# Navigation of the robot\n"
   ]
  },
  {
   "cell_type": "code",
   "execution_count": 59,
   "metadata": {},
   "outputs": [],
   "source": [
    "import tdmclient.notebook\n",
    "from Navigation_utils import *\n",
    "await tdmclient.notebook.start()"
   ]
  },
  {
   "cell_type": "code",
   "execution_count": null,
   "metadata": {},
   "outputs": [],
   "source": [
    "%%run_python\n",
    "\n",
    "# Let's intitialize the variables\n",
    "\n",
    "speed0 = 100       #initial speed\n",
    "speed_gain = 2     # \n",
    "obstThrL = 10      # Low threshold for which the robot exits the avoidance state\n",
    "obstThrH = 20      # High threshold for which the robot enters the avoidance state\n",
    "obstSpeedGain = 5  # gain associated to obstacle avoidance \n",
    "\n",
    "state = 0          # 0 = normal state, 1 = obstacle avoidance state\n",
    "obst_surrounded = 0\n",
    "prox = [0,0,0,0,0,0,0] # obstacle detection array\n",
    "\n",
    "button_center_last = 0\n",
    "timer_period[0] = 10\n",
    "'''\n",
    "@onevent\n",
    "def button_center():\n",
    "    motor_right=0\n",
    "    motor_left=0\n",
    "'''\n",
    "@onevent\n",
    "def button_center():\n",
    "    global obst_surrounded, button_center_last\n",
    "\n",
    "    if button_center and not button_center_last: \n",
    "        if (obst_surrounded == 0):\n",
    "            obst_surrounded = 1\n",
    "        else:\n",
    "            obst_surrounded = 0\n",
    "        print(obst_surrounded)\n",
    "\n",
    "    button_center_last = button_center\n",
    "\n",
    "@onevent\n",
    "def timer0():\n",
    "    global speed0, speed_gain, obstThrL, obstThrH, obstSpeedGain, state, prox, motor_left_target, motor_right_target, leds_top, prox_horizontal, obst_surrounded\n",
    "\n",
    "    prox = prox_horizontal\n",
    "    #print(prox_horizontal)\n",
    "    if state == 0:\n",
    "        for i in range (6):\n",
    "            if prox[i] > obstThrH:\n",
    "                state = 1\n",
    "    else:\n",
    "        close_obst = 0          # number of sensors that detect an obstacle\n",
    "        for i in range (6):\n",
    "            if prox[i] > obstThrL:\n",
    "                close_obst = close_obst + 1\n",
    "        if close_obst == 0:\n",
    "            if obst_surrounded == 1:\n",
    "                state = 0\n",
    "\n",
    "\n",
    "    if state == 0:\n",
    "        #global_navigation()\n",
    "        leds_top = [0,0,0]\n",
    "        motor_left_target = speed0\n",
    "        motor_right_target = speed0\n",
    "    else: \n",
    "        #obstacle_surrounding()  \n",
    "        leds_top = [30,30,30]\n",
    "        w_l = [40,  20, -20, -20, -40,  30, -10]\n",
    "        w_r = [-40, -20, -20,  20,  40, -10,  30]\n",
    "        actuation = [0,0]\n",
    "        x = [0,0,0,0,0,0,0]\n",
    "\n",
    "        sensor_translation = 200\n",
    "\n",
    "        for i in range (6):\n",
    "            \n",
    "            x[i] = prox[i] // sensor_translation\n",
    "\n",
    "            actuation[0] = actuation[0] + x[i] * w_l[i]\n",
    "            actuation[1] = actuation[1] + x[i] * w_r[i]\n",
    "\n",
    "\n",
    "        motor_left_target = speed0 + actuation[0]\n",
    "        motor_right_target = speed0 + actuation[1]\n",
    "\n",
    "\n"
   ]
  },
  {
   "cell_type": "code",
   "execution_count": 61,
   "metadata": {},
   "outputs": [],
   "source": [
    "await tdmclient.notebook.stop()"
   ]
  },
  {
   "cell_type": "code",
   "execution_count": null,
   "metadata": {},
   "outputs": [],
   "source": []
  }
 ],
 "metadata": {
  "kernelspec": {
   "display_name": "base",
   "language": "python",
   "name": "python3"
  },
  "language_info": {
   "codemirror_mode": {
    "name": "ipython",
    "version": 3
   },
   "file_extension": ".py",
   "mimetype": "text/x-python",
   "name": "python",
   "nbconvert_exporter": "python",
   "pygments_lexer": "ipython3",
   "version": "3.12.3"
  }
 },
 "nbformat": 4,
 "nbformat_minor": 2
}
