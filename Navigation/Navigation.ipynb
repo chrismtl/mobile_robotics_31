{
 "cells": [
  {
   "cell_type": "markdown",
   "metadata": {},
   "source": [
    "# Navigation of the robot\n"
   ]
  },
  {
   "cell_type": "code",
   "execution_count": null,
   "metadata": {},
   "outputs": [],
   "source": [
    "# Let's intitialize the variables\n",
    "\n",
    "speed0 = 100       #initial speed\n",
    "speed_gain = 2     # \n",
    "obstThrL = 10      # Low threshold for which the robot exits the avoidance state\n",
    "obstThrH = 20      # High threshold for which the robot enters the avoidance state\n",
    "obstSpeedGain = 5  # gain associated to obstacle avoidance \n",
    "\n",
    "state = 1         \n",
    "prox = [0,0,0,0,0,0,0] # obstacle detection array\n",
    "\n",
    "\n"
   ]
  }
 ],
 "metadata": {
  "language_info": {
   "name": "python"
  }
 },
 "nbformat": 4,
 "nbformat_minor": 2
}
