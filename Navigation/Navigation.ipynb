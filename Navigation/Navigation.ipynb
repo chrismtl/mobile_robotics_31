{
 "cells": [
  {
   "cell_type": "markdown",
   "metadata": {},
   "source": [
    "# Navigation of the robot\n"
   ]
  },
  {
   "cell_type": "code",
   "execution_count": null,
   "metadata": {},
   "outputs": [],
   "source": [
    "import tdmclient.notebook\n",
    "from Navigation_utils import *\n",
    "await tdmclient.notebook.start()"
   ]
  },
  {
   "cell_type": "code",
   "execution_count": null,
   "metadata": {},
   "outputs": [],
   "source": [
    "%%run_python\n",
    "\n",
    "# Let's intitialize the variables\n",
    "\n",
    "speed0 = 100       #initial speed\n",
    "speed_gain = 2     # \n",
    "obstThrL = 10      # Low threshold for which the robot exits the avoidance state\n",
    "obstThrH = 20      # High threshold for which the robot enters the avoidance state\n",
    "obstSpeedGain = 5  # gain associated to obstacle avoidance \n",
    "\n",
    "state = 1          # 0 = normal state, 1 = obstacle avoidance state\n",
    "prox = [0,0,0,0,0,0,0] # obstacle detection array\n",
    "\n",
    "@onevent\n",
    "def timer0():\n",
    "    global speed0, speed_gain, obstThrL, obstThrH, obstSpeedGain, state, prox, motor_left_target, motor_right_target\n",
    "    \n",
    "    if state == 0:\n",
    "        for i in range (0, length(prox)-1):\n",
    "            if prox[i] > obstThrH:\n",
    "                state = 1\n",
    "                break\n",
    "    else:\n",
    "        close_obst = 0  \n",
    "        for i in range (0, length(prox)-1):\n",
    "            if prox[i] < obstThrL:\n",
    "                close_obst = close_obst + 1\n",
    "        if close_obst == 0:\n",
    "            state = 0\n",
    "\n",
    "\n",
    "    if state == 0:\n",
    "        global_navigation()\n",
    "    else: \n",
    "        obstacle_avoidance()\n",
    "\n",
    "\n"
   ]
  }
 ],
 "metadata": {
  "language_info": {
   "name": "python"
  }
 },
 "nbformat": 4,
 "nbformat_minor": 2
}
